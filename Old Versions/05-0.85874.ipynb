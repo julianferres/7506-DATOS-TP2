{
 "cells": [
  {
   "cell_type": "code",
   "execution_count": 3,
   "metadata": {},
   "outputs": [],
   "source": [
    "import pandas as pd\n",
    "import numpy as np\n",
    "import matplotlib.pylab as plt\n",
    "\n",
    "%matplotlib inline\n",
    "pd.set_option('display.max_columns', 100)"
   ]
  },
  {
   "cell_type": "code",
   "execution_count": 4,
   "metadata": {},
   "outputs": [],
   "source": [
    "modelo=pd.read_csv('data/modelo.csv',low_memory=False)"
   ]
  },
  {
   "cell_type": "code",
   "execution_count": 5,
   "metadata": {},
   "outputs": [
    {
     "data": {
      "text/html": [
       "<div>\n",
       "<style scoped>\n",
       "    .dataframe tbody tr th:only-of-type {\n",
       "        vertical-align: middle;\n",
       "    }\n",
       "\n",
       "    .dataframe tbody tr th {\n",
       "        vertical-align: top;\n",
       "    }\n",
       "\n",
       "    .dataframe thead th {\n",
       "        text-align: right;\n",
       "    }\n",
       "</style>\n",
       "<table border=\"1\" class=\"dataframe\">\n",
       "  <thead>\n",
       "    <tr style=\"text-align: right;\">\n",
       "      <th></th>\n",
       "      <th>timestamp</th>\n",
       "      <th>event</th>\n",
       "      <th>person</th>\n",
       "      <th>url</th>\n",
       "      <th>sku</th>\n",
       "      <th>model</th>\n",
       "      <th>condition</th>\n",
       "      <th>storage</th>\n",
       "      <th>color</th>\n",
       "      <th>skus</th>\n",
       "      <th>search_term</th>\n",
       "      <th>staticpage</th>\n",
       "      <th>campaign_source</th>\n",
       "      <th>search_engine</th>\n",
       "      <th>channel</th>\n",
       "      <th>new_vs_returning</th>\n",
       "      <th>city</th>\n",
       "      <th>region</th>\n",
       "      <th>country</th>\n",
       "      <th>device_type</th>\n",
       "      <th>screen_resolution</th>\n",
       "      <th>operating_system_version</th>\n",
       "      <th>browser_version</th>\n",
       "    </tr>\n",
       "  </thead>\n",
       "  <tbody>\n",
       "    <tr>\n",
       "      <th>0</th>\n",
       "      <td>2018-05-18 00:11:59</td>\n",
       "      <td>viewed product</td>\n",
       "      <td>4886f805</td>\n",
       "      <td>NaN</td>\n",
       "      <td>9288.0</td>\n",
       "      <td>Samsung Galaxy J7 Prime</td>\n",
       "      <td>Excelente</td>\n",
       "      <td>32GB</td>\n",
       "      <td>Dourado</td>\n",
       "      <td>NaN</td>\n",
       "      <td>NaN</td>\n",
       "      <td>NaN</td>\n",
       "      <td>NaN</td>\n",
       "      <td>NaN</td>\n",
       "      <td>NaN</td>\n",
       "      <td>NaN</td>\n",
       "      <td>NaN</td>\n",
       "      <td>NaN</td>\n",
       "      <td>NaN</td>\n",
       "      <td>NaN</td>\n",
       "      <td>NaN</td>\n",
       "      <td>NaN</td>\n",
       "      <td>NaN</td>\n",
       "    </tr>\n",
       "    <tr>\n",
       "      <th>1</th>\n",
       "      <td>2018-05-18 00:11:27</td>\n",
       "      <td>viewed product</td>\n",
       "      <td>ad93850f</td>\n",
       "      <td>NaN</td>\n",
       "      <td>304.0</td>\n",
       "      <td>iPhone 5s</td>\n",
       "      <td>Muito Bom</td>\n",
       "      <td>32GB</td>\n",
       "      <td>Cinza espacial</td>\n",
       "      <td>NaN</td>\n",
       "      <td>NaN</td>\n",
       "      <td>NaN</td>\n",
       "      <td>NaN</td>\n",
       "      <td>NaN</td>\n",
       "      <td>NaN</td>\n",
       "      <td>NaN</td>\n",
       "      <td>NaN</td>\n",
       "      <td>NaN</td>\n",
       "      <td>NaN</td>\n",
       "      <td>NaN</td>\n",
       "      <td>NaN</td>\n",
       "      <td>NaN</td>\n",
       "      <td>NaN</td>\n",
       "    </tr>\n",
       "    <tr>\n",
       "      <th>2</th>\n",
       "      <td>2018-05-18 00:11:16</td>\n",
       "      <td>viewed product</td>\n",
       "      <td>0297fc1e</td>\n",
       "      <td>NaN</td>\n",
       "      <td>6888.0</td>\n",
       "      <td>iPhone 6S</td>\n",
       "      <td>Muito Bom</td>\n",
       "      <td>64GB</td>\n",
       "      <td>Prateado</td>\n",
       "      <td>NaN</td>\n",
       "      <td>NaN</td>\n",
       "      <td>NaN</td>\n",
       "      <td>NaN</td>\n",
       "      <td>NaN</td>\n",
       "      <td>NaN</td>\n",
       "      <td>NaN</td>\n",
       "      <td>NaN</td>\n",
       "      <td>NaN</td>\n",
       "      <td>NaN</td>\n",
       "      <td>NaN</td>\n",
       "      <td>NaN</td>\n",
       "      <td>NaN</td>\n",
       "      <td>NaN</td>\n",
       "    </tr>\n",
       "    <tr>\n",
       "      <th>3</th>\n",
       "      <td>2018-05-18 00:11:14</td>\n",
       "      <td>viewed product</td>\n",
       "      <td>2d681dd8</td>\n",
       "      <td>NaN</td>\n",
       "      <td>11890.0</td>\n",
       "      <td>iPhone 7</td>\n",
       "      <td>Bom</td>\n",
       "      <td>128GB</td>\n",
       "      <td>Vermelho</td>\n",
       "      <td>NaN</td>\n",
       "      <td>NaN</td>\n",
       "      <td>NaN</td>\n",
       "      <td>NaN</td>\n",
       "      <td>NaN</td>\n",
       "      <td>NaN</td>\n",
       "      <td>NaN</td>\n",
       "      <td>NaN</td>\n",
       "      <td>NaN</td>\n",
       "      <td>NaN</td>\n",
       "      <td>NaN</td>\n",
       "      <td>NaN</td>\n",
       "      <td>NaN</td>\n",
       "      <td>NaN</td>\n",
       "    </tr>\n",
       "    <tr>\n",
       "      <th>4</th>\n",
       "      <td>2018-05-18 00:11:09</td>\n",
       "      <td>viewed product</td>\n",
       "      <td>cccea85e</td>\n",
       "      <td>NaN</td>\n",
       "      <td>7517.0</td>\n",
       "      <td>LG G4 H818P</td>\n",
       "      <td>Excelente</td>\n",
       "      <td>32GB</td>\n",
       "      <td>Branco</td>\n",
       "      <td>NaN</td>\n",
       "      <td>NaN</td>\n",
       "      <td>NaN</td>\n",
       "      <td>NaN</td>\n",
       "      <td>NaN</td>\n",
       "      <td>NaN</td>\n",
       "      <td>NaN</td>\n",
       "      <td>NaN</td>\n",
       "      <td>NaN</td>\n",
       "      <td>NaN</td>\n",
       "      <td>NaN</td>\n",
       "      <td>NaN</td>\n",
       "      <td>NaN</td>\n",
       "      <td>NaN</td>\n",
       "    </tr>\n",
       "  </tbody>\n",
       "</table>\n",
       "</div>"
      ],
      "text/plain": [
       "             timestamp           event    person  url      sku  \\\n",
       "0  2018-05-18 00:11:59  viewed product  4886f805  NaN   9288.0   \n",
       "1  2018-05-18 00:11:27  viewed product  ad93850f  NaN    304.0   \n",
       "2  2018-05-18 00:11:16  viewed product  0297fc1e  NaN   6888.0   \n",
       "3  2018-05-18 00:11:14  viewed product  2d681dd8  NaN  11890.0   \n",
       "4  2018-05-18 00:11:09  viewed product  cccea85e  NaN   7517.0   \n",
       "\n",
       "                     model  condition storage           color skus  \\\n",
       "0  Samsung Galaxy J7 Prime  Excelente    32GB         Dourado  NaN   \n",
       "1                iPhone 5s  Muito Bom    32GB  Cinza espacial  NaN   \n",
       "2                iPhone 6S  Muito Bom    64GB        Prateado  NaN   \n",
       "3                 iPhone 7        Bom   128GB        Vermelho  NaN   \n",
       "4              LG G4 H818P  Excelente    32GB          Branco  NaN   \n",
       "\n",
       "  search_term staticpage campaign_source search_engine channel  \\\n",
       "0         NaN        NaN             NaN           NaN     NaN   \n",
       "1         NaN        NaN             NaN           NaN     NaN   \n",
       "2         NaN        NaN             NaN           NaN     NaN   \n",
       "3         NaN        NaN             NaN           NaN     NaN   \n",
       "4         NaN        NaN             NaN           NaN     NaN   \n",
       "\n",
       "  new_vs_returning city region country device_type screen_resolution  \\\n",
       "0              NaN  NaN    NaN     NaN         NaN               NaN   \n",
       "1              NaN  NaN    NaN     NaN         NaN               NaN   \n",
       "2              NaN  NaN    NaN     NaN         NaN               NaN   \n",
       "3              NaN  NaN    NaN     NaN         NaN               NaN   \n",
       "4              NaN  NaN    NaN     NaN         NaN               NaN   \n",
       "\n",
       "  operating_system_version browser_version  \n",
       "0                      NaN             NaN  \n",
       "1                      NaN             NaN  \n",
       "2                      NaN             NaN  \n",
       "3                      NaN             NaN  \n",
       "4                      NaN             NaN  "
      ]
     },
     "execution_count": 5,
     "metadata": {},
     "output_type": "execute_result"
    }
   ],
   "source": [
    "modelo.head()"
   ]
  },
  {
   "cell_type": "code",
   "execution_count": 6,
   "metadata": {},
   "outputs": [
    {
     "data": {
      "text/plain": [
       "(2341681, 23)"
      ]
     },
     "execution_count": 6,
     "metadata": {},
     "output_type": "execute_result"
    }
   ],
   "source": [
    "modelo.shape"
   ]
  },
  {
   "cell_type": "code",
   "execution_count": 7,
   "metadata": {},
   "outputs": [
    {
     "data": {
      "text/plain": [
       "timestamp                         0\n",
       "event                             0\n",
       "person                            0\n",
       "url                         2150550\n",
       "sku                         1021151\n",
       "model                       1020168\n",
       "condition                   1021151\n",
       "storage                     1021151\n",
       "color                       1021151\n",
       "skus                        1835732\n",
       "search_term                 2227918\n",
       "staticpage                  2330480\n",
       "campaign_source             2150395\n",
       "search_engine               2235275\n",
       "channel                     2137612\n",
       "new_vs_returning            2137612\n",
       "city                        2137612\n",
       "region                      2137612\n",
       "country                     2137612\n",
       "device_type                 2137612\n",
       "screen_resolution           2137615\n",
       "operating_system_version    2137612\n",
       "browser_version             2137612\n",
       "dtype: int64"
      ]
     },
     "execution_count": 7,
     "metadata": {},
     "output_type": "execute_result"
    }
   ],
   "source": [
    "modelo.isnull().sum()"
   ]
  },
  {
   "cell_type": "code",
   "execution_count": 8,
   "metadata": {},
   "outputs": [],
   "source": [
    "modelo.drop(['url', 'sku', 'skus','channel','staticpage','condition','search_engine','device_type','campaign_source','country','region','search_term','new_vs_returning','city','region','screen_resolution','operating_system_version','browser_version'], axis=1, inplace=True)"
   ]
  },
  {
   "cell_type": "code",
   "execution_count": 9,
   "metadata": {},
   "outputs": [],
   "source": [
    "training= pd.read_csv('data/training.csv',low_memory=False)"
   ]
  },
  {
   "cell_type": "markdown",
   "metadata": {},
   "source": [
    "# Armado del modelo"
   ]
  },
  {
   "cell_type": "code",
   "execution_count": 10,
   "metadata": {},
   "outputs": [],
   "source": [
    "import calendar\n",
    "modelo['timestamp'] = pd.to_datetime(modelo['timestamp'])"
   ]
  },
  {
   "cell_type": "markdown",
   "metadata": {},
   "source": [
    "### Fechas"
   ]
  },
  {
   "cell_type": "code",
   "execution_count": 11,
   "metadata": {},
   "outputs": [],
   "source": [
    "modelo['dia']=modelo['timestamp'].dt.dayofyear\n",
    "modelo['dia_de_la_semana']=modelo['timestamp'].dt.dayofweek\n",
    "modelo['nombre_del_dia']=modelo['timestamp'].dt.day_name()\n",
    "modelo['hora']=modelo['timestamp'].dt.hour"
   ]
  },
  {
   "cell_type": "markdown",
   "metadata": {},
   "source": [
    "### Horas distintas"
   ]
  },
  {
   "cell_type": "code",
   "execution_count": 12,
   "metadata": {},
   "outputs": [],
   "source": [
    "modelo['horas_distintas']=modelo['person'].map(modelo.groupby('person')['hora'].nunique())"
   ]
  },
  {
   "cell_type": "markdown",
   "metadata": {},
   "source": [
    "### Eventos en los ultimos dias"
   ]
  },
  {
   "cell_type": "raw",
   "metadata": {},
   "source": [
    "df_aux=modelo.loc[modelo['dia']>145].groupby(['person','dia'])['event'].size().unstack().fillna(0).astype(int).reset_index()\n",
    "modelo=pd.merge(modelo,df_aux,on='person',how='left')"
   ]
  },
  {
   "cell_type": "markdown",
   "metadata": {},
   "source": [
    "### Tipos de eventos por persona"
   ]
  },
  {
   "cell_type": "code",
   "execution_count": 13,
   "metadata": {},
   "outputs": [],
   "source": [
    "df_aux=modelo.groupby(['person','event'])['event'].size().unstack('event')\n",
    "modelo=pd.merge(modelo,df_aux,on='person',how='left')"
   ]
  },
  {
   "cell_type": "markdown",
   "metadata": {},
   "source": [
    "### Dias distintos en el ultimo mes"
   ]
  },
  {
   "cell_type": "code",
   "execution_count": 14,
   "metadata": {},
   "outputs": [],
   "source": [
    "modelo['dias_distintos'] = modelo['person'].map(modelo.groupby(['person',(modelo['timestamp'].dt.month==5) ] )['dia'].nunique().unstack()[True]) "
   ]
  },
  {
   "cell_type": "code",
   "execution_count": 15,
   "metadata": {},
   "outputs": [],
   "source": [
    "modelo['dias_distintos_ultima_semana']=modelo['person'].map(modelo.groupby(['person',(modelo['timestamp'].dt.month==5)&(modelo['timestamp'].dt.day>23) ] )['dia'].nunique().unstack()[True])  "
   ]
  },
  {
   "cell_type": "markdown",
   "metadata": {},
   "source": [
    "### Dias distintos de la semana"
   ]
  },
  {
   "cell_type": "code",
   "execution_count": 16,
   "metadata": {},
   "outputs": [],
   "source": [
    "modelo['dias_distintos_de_la_semana']=modelo['person'].map(modelo.groupby('person')['dia_de_la_semana'].nunique())    "
   ]
  },
  {
   "cell_type": "code",
   "execution_count": 17,
   "metadata": {},
   "outputs": [],
   "source": [
    "modelo['dias_distintos_de_la_semana_last_month']=modelo['person'].map(modelo.groupby(['person',(modelo['timestamp'].dt.month==5) ])['dia_de_la_semana'].nunique().unstack()[True])"
   ]
  },
  {
   "cell_type": "markdown",
   "metadata": {},
   "source": [
    "### Ultima visita"
   ]
  },
  {
   "cell_type": "code",
   "execution_count": 18,
   "metadata": {},
   "outputs": [],
   "source": [
    "modelo['ultima_visita']=modelo['person'].map(modelo.groupby('person' )['dia'].max())  "
   ]
  },
  {
   "cell_type": "markdown",
   "metadata": {},
   "source": [
    "### Compras por dia de la semana"
   ]
  },
  {
   "cell_type": "code",
   "execution_count": 19,
   "metadata": {},
   "outputs": [],
   "source": [
    "df_aux=modelo.groupby(['person','nombre_del_dia']).size().reset_index()\n",
    "compras_por_dia_semana=modelo.loc[modelo['event']=='conversion']['nombre_del_dia'].value_counts().to_dict()\n",
    "df_aux['compras_por_dia_semana']=df_aux[0]*df_aux['nombre_del_dia'].apply(lambda x: compras_por_dia_semana.get(x))\n",
    "modelo['compras_por_dia_semana']=modelo['person'].map(df_aux.groupby('person')['compras_por_dia_semana'].sum())  "
   ]
  },
  {
   "cell_type": "markdown",
   "metadata": {},
   "source": [
    "### Modelos y marcas de celuares distintos vistos"
   ]
  },
  {
   "cell_type": "code",
   "execution_count": 20,
   "metadata": {},
   "outputs": [],
   "source": [
    "modelo['modelos_distintos_vistos']= modelo['person'].map( modelo.groupby('person')['model'].nunique())\n",
    "\n",
    "modelo['marca']=modelo['model'].str.split().str.get(0)\n",
    "modelo['marcas_distintas']=modelo['person'].map(modelo.groupby('person')['marca'].nunique()) "
   ]
  },
  {
   "cell_type": "markdown",
   "metadata": {},
   "source": [
    "### Visitas maximas de un mismo celular"
   ]
  },
  {
   "cell_type": "code",
   "execution_count": 21,
   "metadata": {},
   "outputs": [],
   "source": [
    "modelo['celular_mas_visto']=modelo['person'].map(modelo.groupby(['person','model']).size().groupby('person').max()) "
   ]
  },
  {
   "cell_type": "markdown",
   "metadata": {},
   "source": [
    "### Relacion de colores por modelo"
   ]
  },
  {
   "cell_type": "code",
   "execution_count": 22,
   "metadata": {},
   "outputs": [],
   "source": [
    "modelo['color']=modelo['color'].fillna(0)\n",
    "modelo['modelos_por_color']=modelo['person'].map(modelo.groupby('person')['model'].nunique()/(modelo.groupby('person')['color'].nunique()))"
   ]
  },
  {
   "cell_type": "markdown",
   "metadata": {},
   "source": [
    "### Eventos distintos"
   ]
  },
  {
   "cell_type": "code",
   "execution_count": 23,
   "metadata": {},
   "outputs": [],
   "source": [
    "modelo['eventos_distintos']=modelo['person'].map(modelo.groupby('person')['event'].nunique())   "
   ]
  },
  {
   "cell_type": "markdown",
   "metadata": {},
   "source": [
    "### Relacion de eventos sobre el total del usuario"
   ]
  },
  {
   "cell_type": "code",
   "execution_count": 24,
   "metadata": {},
   "outputs": [],
   "source": [
    "#df_aux = modelo.groupby(['person','event']).size().unstack().fillna(0).astype(int)\n",
    "#df_aux = df_aux.div(df_aux.sum(axis=1), axis=0)\n",
    "#modelo = modelo.merge(df_aux, how='left', on='person')\n",
    "#modelo.head()\n",
    "#df_aux.head()"
   ]
  },
  {
   "cell_type": "markdown",
   "metadata": {},
   "source": [
    "### Campaña en la ultima semana"
   ]
  },
  {
   "cell_type": "code",
   "execution_count": 25,
   "metadata": {},
   "outputs": [],
   "source": [
    "modelo['campaña_ultima_semana']=modelo['person'].map(modelo.groupby(['person',(modelo['timestamp'].dt.month==5) & (modelo['timestamp'].dt.day>23) & (modelo['event']==\"ad campaign hit\")]).size().unstack()[True]) "
   ]
  },
  {
   "cell_type": "markdown",
   "metadata": {},
   "source": [
    "### Visitas"
   ]
  },
  {
   "cell_type": "code",
   "execution_count": 26,
   "metadata": {},
   "outputs": [],
   "source": [
    "modelo['total_visitas_usuario'] = modelo.groupby('person')['person'].transform('count')\n",
    "\n",
    "modelo['visitas_ultimo_mes']=modelo['person'].map(modelo.groupby(['person',(modelo['timestamp'].dt.month)==5]).size().unstack()[True])\n",
    "\n",
    "modelo['visitas_ultimos_15']=modelo['person'].map(modelo.groupby(['person', (modelo['timestamp'].dt.month==5)& (modelo['timestamp'].dt.day>15)]).size().unstack()[True])\n",
    "\n",
    "modelo['visitas_ultima_semana']=modelo['person'].map(modelo.groupby(['person', (modelo['timestamp'].dt.month==5)& (modelo['timestamp'].dt.day>23)]).size().unstack()[True])\n",
    "\n",
    "modelo['visitas_ultimos_3']=modelo['person'].map(modelo.groupby(['person', (modelo['timestamp'].dt.month==5)& (modelo['timestamp'].dt.day>27)]).size().unstack()[True])"
   ]
  },
  {
   "cell_type": "markdown",
   "metadata": {},
   "source": [
    "### Checkouts"
   ]
  },
  {
   "cell_type": "code",
   "execution_count": 27,
   "metadata": {},
   "outputs": [],
   "source": [
    "modelo['total_checkout']=modelo['person'].map(modelo.groupby(['person','event']).size().unstack()['checkout'])\n",
    "\n",
    "modelo['checkouts_ultimo_mes']=modelo['person'].map(modelo.groupby(['person','event',modelo['timestamp'].dt.month==5 ]).size().unstack()[True].unstack()['checkout'])   \n",
    "\n",
    "modelo['checkouts_ultima_semana']=modelo['person'].map(modelo.groupby(['person','event',(modelo['timestamp'].dt.month==5)& (modelo['timestamp'].dt.day>23)]).size().unstack()[True].unstack()['checkout'])"
   ]
  },
  {
   "cell_type": "markdown",
   "metadata": {},
   "source": [
    "### Compras"
   ]
  },
  {
   "cell_type": "code",
   "execution_count": 28,
   "metadata": {},
   "outputs": [],
   "source": [
    "modelo['total_compras']=modelo['person'].map(modelo.groupby(['person','event']).size().unstack()['conversion'])\n",
    "\n",
    "modelo['compras_ultimo_mes']=modelo['person'].map(modelo.groupby(['person','event',modelo['timestamp'].dt.month==5 ]).size().unstack()[True].unstack()['conversion'])\n",
    "\n",
    "modelo['compras_ultima_semana']=modelo['person'].map(modelo.groupby(['person','event',(modelo['timestamp'].dt.month==5)& (modelo['timestamp'].dt.day>23)]).size().unstack()[True].unstack()['conversion'])"
   ]
  },
  {
   "cell_type": "markdown",
   "metadata": {},
   "source": [
    "### Subscripciones"
   ]
  },
  {
   "cell_type": "code",
   "execution_count": 29,
   "metadata": {},
   "outputs": [],
   "source": [
    "modelo['subscripciones']=modelo['person'].map(modelo.groupby(['person','event']).size().unstack()['lead'])"
   ]
  },
  {
   "cell_type": "markdown",
   "metadata": {},
   "source": [
    "### Celulares mas vendidos"
   ]
  },
  {
   "cell_type": "code",
   "execution_count": 30,
   "metadata": {},
   "outputs": [
    {
     "data": {
      "text/plain": [
       "\"compras_por_modelo = modelo.groupby('event').get_group('conversion')['model'].value_counts().to_frame()\\naux_df = modelo.groupby(['person', 'model']).size().reset_index().merge(compras_por_modelo, how='left', left_on='model', right_index=True)\\naux_df['vistas_sobre_compras'] = aux_df[0] / aux_df['model_y']\\naux_df = aux_df.groupby('person')['vistas_sobre_compras'].mean().reset_index()\\nmodelo = modelo.merge(aux_df, how='left', on='person')\\nmodelo.head()\""
      ]
     },
     "execution_count": 30,
     "metadata": {},
     "output_type": "execute_result"
    }
   ],
   "source": [
    "\"\"\"compras_por_modelo = modelo.groupby('event').get_group('conversion')['model'].value_counts().to_frame()\n",
    "aux_df = modelo.groupby(['person', 'model']).size().reset_index().merge(compras_por_modelo, how='left', left_on='model', right_index=True)\n",
    "aux_df['vistas_sobre_compras'] = aux_df[0] / aux_df['model_y']\n",
    "aux_df = aux_df.groupby('person')['vistas_sobre_compras'].mean().reset_index()\n",
    "modelo = modelo.merge(aux_df, how='left', on='person')\n",
    "modelo.head()\"\"\""
   ]
  },
  {
   "cell_type": "markdown",
   "metadata": {},
   "source": [
    "### Eventos por dia de la semana"
   ]
  },
  {
   "cell_type": "code",
   "execution_count": 31,
   "metadata": {},
   "outputs": [
    {
     "data": {
      "text/plain": [
       "\"dias = modelo.groupby('person')['nombre_del_dia'].value_counts().unstack().fillna(0).astype(int)\\ndias = dias.div(dias.sum(axis=1), axis=0)\\n\\nmodelo = modelo.merge(dias, how='left', on='person')\\nmodelo.head()\""
      ]
     },
     "execution_count": 31,
     "metadata": {},
     "output_type": "execute_result"
    }
   ],
   "source": [
    "\"\"\"dias = modelo.groupby('person')['nombre_del_dia'].value_counts().unstack().fillna(0).astype(int)\n",
    "dias = dias.div(dias.sum(axis=1), axis=0)\n",
    "\n",
    "modelo = modelo.merge(dias, how='left', on='person')\n",
    "modelo.head()\"\"\""
   ]
  },
  {
   "cell_type": "code",
   "execution_count": 34,
   "metadata": {},
   "outputs": [],
   "source": [
    "precios=pd.read_csv('data/precios.csv',low_memory=False)\n",
    "precios['Storage'] = precios['Capacidad'].astype(str) + 'GB' \n",
    "precios['mod+stg']= precios['Model']+precios['Storage']\n",
    "modelo['mod+stg']= modelo['model']+modelo['storage']\n",
    "modelo=pd.merge(modelo,precios,on='mod+stg',how=\"outer\")\n",
    "modelo.drop(['mod+stg','Model','Storage','Capacidad'], axis=1,inplace=True)\n",
    "modelo['Precio']=modelo['Precio'].fillna(modelo['Precio'].mean())"
   ]
  },
  {
   "cell_type": "code",
   "execution_count": 35,
   "metadata": {},
   "outputs": [],
   "source": [
    "modelo['precio_max']=modelo['person'].map(modelo.groupby('person')['Precio'].max())\n",
    "modelo['precio_mean']=modelo['person'].map(modelo.groupby('person')['Precio'].mean())\n",
    "modelo['precio_std']=modelo['person'].map(modelo.groupby('person')['Precio'].std())\n",
    "modelo['precio_min']=modelo['person'].map(modelo.groupby('person')['Precio'].min())"
   ]
  },
  {
   "cell_type": "markdown",
   "metadata": {},
   "source": [
    "### Dropeo de columnas"
   ]
  },
  {
   "cell_type": "code",
   "execution_count": 36,
   "metadata": {},
   "outputs": [],
   "source": [
    "modelo.drop(['color','dia','dia_de_la_semana','nombre_del_dia','model','marca','timestamp','event','hora','Precio','storage'],1,inplace=True)\n",
    "modelo=modelo.drop_duplicates(subset=['person'])"
   ]
  },
  {
   "cell_type": "code",
   "execution_count": 37,
   "metadata": {},
   "outputs": [],
   "source": [
    "modelo=modelo.fillna(0)"
   ]
  },
  {
   "cell_type": "code",
   "execution_count": 38,
   "metadata": {},
   "outputs": [
    {
     "data": {
      "text/html": [
       "<div>\n",
       "<style scoped>\n",
       "    .dataframe tbody tr th:only-of-type {\n",
       "        vertical-align: middle;\n",
       "    }\n",
       "\n",
       "    .dataframe tbody tr th {\n",
       "        vertical-align: top;\n",
       "    }\n",
       "\n",
       "    .dataframe thead th {\n",
       "        text-align: right;\n",
       "    }\n",
       "</style>\n",
       "<table border=\"1\" class=\"dataframe\">\n",
       "  <thead>\n",
       "    <tr style=\"text-align: right;\">\n",
       "      <th></th>\n",
       "      <th>person</th>\n",
       "      <th>horas_distintas</th>\n",
       "      <th>ad campaign hit</th>\n",
       "      <th>brand listing</th>\n",
       "      <th>checkout</th>\n",
       "      <th>conversion</th>\n",
       "      <th>generic listing</th>\n",
       "      <th>lead</th>\n",
       "      <th>search engine hit</th>\n",
       "      <th>searched products</th>\n",
       "      <th>staticpage</th>\n",
       "      <th>viewed product</th>\n",
       "      <th>visited site</th>\n",
       "      <th>dias_distintos</th>\n",
       "      <th>dias_distintos_ultima_semana</th>\n",
       "      <th>dias_distintos_de_la_semana</th>\n",
       "      <th>dias_distintos_de_la_semana_last_month</th>\n",
       "      <th>ultima_visita</th>\n",
       "      <th>compras_por_dia_semana</th>\n",
       "      <th>modelos_distintos_vistos</th>\n",
       "      <th>marcas_distintas</th>\n",
       "      <th>celular_mas_visto</th>\n",
       "      <th>modelos_por_color</th>\n",
       "      <th>eventos_distintos</th>\n",
       "      <th>campaña_ultima_semana</th>\n",
       "      <th>total_visitas_usuario</th>\n",
       "      <th>visitas_ultimo_mes</th>\n",
       "      <th>visitas_ultimos_15</th>\n",
       "      <th>visitas_ultima_semana</th>\n",
       "      <th>visitas_ultimos_3</th>\n",
       "      <th>total_checkout</th>\n",
       "      <th>checkouts_ultimo_mes</th>\n",
       "      <th>checkouts_ultima_semana</th>\n",
       "      <th>total_compras</th>\n",
       "      <th>compras_ultimo_mes</th>\n",
       "      <th>compras_ultima_semana</th>\n",
       "      <th>subscripciones</th>\n",
       "      <th>precio_max</th>\n",
       "      <th>precio_mean</th>\n",
       "      <th>precio_std</th>\n",
       "      <th>precio_min</th>\n",
       "      <th>label</th>\n",
       "    </tr>\n",
       "  </thead>\n",
       "  <tbody>\n",
       "    <tr>\n",
       "      <th>0</th>\n",
       "      <td>4886f805</td>\n",
       "      <td>1</td>\n",
       "      <td>0</td>\n",
       "      <td>0</td>\n",
       "      <td>1</td>\n",
       "      <td>0</td>\n",
       "      <td>1</td>\n",
       "      <td>0</td>\n",
       "      <td>1</td>\n",
       "      <td>1</td>\n",
       "      <td>0</td>\n",
       "      <td>4</td>\n",
       "      <td>1</td>\n",
       "      <td>1</td>\n",
       "      <td>0</td>\n",
       "      <td>1</td>\n",
       "      <td>1</td>\n",
       "      <td>138</td>\n",
       "      <td>8046</td>\n",
       "      <td>1</td>\n",
       "      <td>1</td>\n",
       "      <td>5</td>\n",
       "      <td>0</td>\n",
       "      <td>6</td>\n",
       "      <td>0</td>\n",
       "      <td>9</td>\n",
       "      <td>9</td>\n",
       "      <td>9</td>\n",
       "      <td>0</td>\n",
       "      <td>0</td>\n",
       "      <td>1</td>\n",
       "      <td>1</td>\n",
       "      <td>0</td>\n",
       "      <td>0</td>\n",
       "      <td>0</td>\n",
       "      <td>0</td>\n",
       "      <td>0</td>\n",
       "      <td>1275</td>\n",
       "      <td>972</td>\n",
       "      <td>287</td>\n",
       "      <td>730</td>\n",
       "      <td>NaN</td>\n",
       "    </tr>\n",
       "    <tr>\n",
       "      <th>1</th>\n",
       "      <td>2e225ac4</td>\n",
       "      <td>4</td>\n",
       "      <td>14</td>\n",
       "      <td>0</td>\n",
       "      <td>5</td>\n",
       "      <td>0</td>\n",
       "      <td>2</td>\n",
       "      <td>0</td>\n",
       "      <td>13</td>\n",
       "      <td>0</td>\n",
       "      <td>0</td>\n",
       "      <td>15</td>\n",
       "      <td>3</td>\n",
       "      <td>3</td>\n",
       "      <td>0</td>\n",
       "      <td>3</td>\n",
       "      <td>3</td>\n",
       "      <td>138</td>\n",
       "      <td>38860</td>\n",
       "      <td>1</td>\n",
       "      <td>1</td>\n",
       "      <td>20</td>\n",
       "      <td>0</td>\n",
       "      <td>6</td>\n",
       "      <td>0</td>\n",
       "      <td>52</td>\n",
       "      <td>52</td>\n",
       "      <td>29</td>\n",
       "      <td>0</td>\n",
       "      <td>0</td>\n",
       "      <td>5</td>\n",
       "      <td>5</td>\n",
       "      <td>0</td>\n",
       "      <td>0</td>\n",
       "      <td>0</td>\n",
       "      <td>0</td>\n",
       "      <td>0</td>\n",
       "      <td>1275</td>\n",
       "      <td>1065</td>\n",
       "      <td>267</td>\n",
       "      <td>730</td>\n",
       "      <td>0.0</td>\n",
       "    </tr>\n",
       "    <tr>\n",
       "      <th>2</th>\n",
       "      <td>fc278339</td>\n",
       "      <td>19</td>\n",
       "      <td>22</td>\n",
       "      <td>144</td>\n",
       "      <td>4</td>\n",
       "      <td>1</td>\n",
       "      <td>34</td>\n",
       "      <td>0</td>\n",
       "      <td>6</td>\n",
       "      <td>0</td>\n",
       "      <td>0</td>\n",
       "      <td>132</td>\n",
       "      <td>65</td>\n",
       "      <td>7</td>\n",
       "      <td>3</td>\n",
       "      <td>7</td>\n",
       "      <td>4</td>\n",
       "      <td>147</td>\n",
       "      <td>476787</td>\n",
       "      <td>38</td>\n",
       "      <td>5</td>\n",
       "      <td>21</td>\n",
       "      <td>2</td>\n",
       "      <td>8</td>\n",
       "      <td>1</td>\n",
       "      <td>408</td>\n",
       "      <td>119</td>\n",
       "      <td>105</td>\n",
       "      <td>46</td>\n",
       "      <td>0</td>\n",
       "      <td>4</td>\n",
       "      <td>1</td>\n",
       "      <td>0</td>\n",
       "      <td>1</td>\n",
       "      <td>0</td>\n",
       "      <td>0</td>\n",
       "      <td>0</td>\n",
       "      <td>3009</td>\n",
       "      <td>1253</td>\n",
       "      <td>203</td>\n",
       "      <td>319</td>\n",
       "      <td>1.0</td>\n",
       "    </tr>\n",
       "    <tr>\n",
       "      <th>3</th>\n",
       "      <td>0ec008ff</td>\n",
       "      <td>4</td>\n",
       "      <td>9</td>\n",
       "      <td>31</td>\n",
       "      <td>0</td>\n",
       "      <td>0</td>\n",
       "      <td>5</td>\n",
       "      <td>0</td>\n",
       "      <td>5</td>\n",
       "      <td>0</td>\n",
       "      <td>0</td>\n",
       "      <td>83</td>\n",
       "      <td>3</td>\n",
       "      <td>3</td>\n",
       "      <td>1</td>\n",
       "      <td>2</td>\n",
       "      <td>2</td>\n",
       "      <td>151</td>\n",
       "      <td>180525</td>\n",
       "      <td>35</td>\n",
       "      <td>4</td>\n",
       "      <td>9</td>\n",
       "      <td>3</td>\n",
       "      <td>6</td>\n",
       "      <td>1</td>\n",
       "      <td>136</td>\n",
       "      <td>136</td>\n",
       "      <td>127</td>\n",
       "      <td>102</td>\n",
       "      <td>102</td>\n",
       "      <td>0</td>\n",
       "      <td>0</td>\n",
       "      <td>0</td>\n",
       "      <td>0</td>\n",
       "      <td>0</td>\n",
       "      <td>0</td>\n",
       "      <td>0</td>\n",
       "      <td>2099</td>\n",
       "      <td>1224</td>\n",
       "      <td>223</td>\n",
       "      <td>399</td>\n",
       "      <td>NaN</td>\n",
       "    </tr>\n",
       "    <tr>\n",
       "      <th>4</th>\n",
       "      <td>4f06f2dd</td>\n",
       "      <td>4</td>\n",
       "      <td>6</td>\n",
       "      <td>3</td>\n",
       "      <td>1</td>\n",
       "      <td>0</td>\n",
       "      <td>0</td>\n",
       "      <td>0</td>\n",
       "      <td>1</td>\n",
       "      <td>0</td>\n",
       "      <td>0</td>\n",
       "      <td>31</td>\n",
       "      <td>3</td>\n",
       "      <td>2</td>\n",
       "      <td>0</td>\n",
       "      <td>2</td>\n",
       "      <td>2</td>\n",
       "      <td>142</td>\n",
       "      <td>48747</td>\n",
       "      <td>15</td>\n",
       "      <td>5</td>\n",
       "      <td>16</td>\n",
       "      <td>1</td>\n",
       "      <td>6</td>\n",
       "      <td>0</td>\n",
       "      <td>45</td>\n",
       "      <td>45</td>\n",
       "      <td>45</td>\n",
       "      <td>0</td>\n",
       "      <td>0</td>\n",
       "      <td>1</td>\n",
       "      <td>1</td>\n",
       "      <td>0</td>\n",
       "      <td>0</td>\n",
       "      <td>0</td>\n",
       "      <td>0</td>\n",
       "      <td>0</td>\n",
       "      <td>1275</td>\n",
       "      <td>1243</td>\n",
       "      <td>154</td>\n",
       "      <td>379</td>\n",
       "      <td>NaN</td>\n",
       "    </tr>\n",
       "  </tbody>\n",
       "</table>\n",
       "</div>"
      ],
      "text/plain": [
       "     person  horas_distintas  ad campaign hit  brand listing  checkout  \\\n",
       "0  4886f805                1                0              0         1   \n",
       "1  2e225ac4                4               14              0         5   \n",
       "2  fc278339               19               22            144         4   \n",
       "3  0ec008ff                4                9             31         0   \n",
       "4  4f06f2dd                4                6              3         1   \n",
       "\n",
       "   conversion  generic listing  lead  search engine hit  searched products  \\\n",
       "0           0                1     0                  1                  1   \n",
       "1           0                2     0                 13                  0   \n",
       "2           1               34     0                  6                  0   \n",
       "3           0                5     0                  5                  0   \n",
       "4           0                0     0                  1                  0   \n",
       "\n",
       "   staticpage  viewed product  visited site  dias_distintos  \\\n",
       "0           0               4             1               1   \n",
       "1           0              15             3               3   \n",
       "2           0             132            65               7   \n",
       "3           0              83             3               3   \n",
       "4           0              31             3               2   \n",
       "\n",
       "   dias_distintos_ultima_semana  dias_distintos_de_la_semana  \\\n",
       "0                             0                            1   \n",
       "1                             0                            3   \n",
       "2                             3                            7   \n",
       "3                             1                            2   \n",
       "4                             0                            2   \n",
       "\n",
       "   dias_distintos_de_la_semana_last_month  ultima_visita  \\\n",
       "0                                       1            138   \n",
       "1                                       3            138   \n",
       "2                                       4            147   \n",
       "3                                       2            151   \n",
       "4                                       2            142   \n",
       "\n",
       "   compras_por_dia_semana  modelos_distintos_vistos  marcas_distintas  \\\n",
       "0                    8046                         1                 1   \n",
       "1                   38860                         1                 1   \n",
       "2                  476787                        38                 5   \n",
       "3                  180525                        35                 4   \n",
       "4                   48747                        15                 5   \n",
       "\n",
       "   celular_mas_visto  modelos_por_color  eventos_distintos  \\\n",
       "0                  5                  0                  6   \n",
       "1                 20                  0                  6   \n",
       "2                 21                  2                  8   \n",
       "3                  9                  3                  6   \n",
       "4                 16                  1                  6   \n",
       "\n",
       "   campaña_ultima_semana  total_visitas_usuario  visitas_ultimo_mes  \\\n",
       "0                      0                      9                   9   \n",
       "1                      0                     52                  52   \n",
       "2                      1                    408                 119   \n",
       "3                      1                    136                 136   \n",
       "4                      0                     45                  45   \n",
       "\n",
       "   visitas_ultimos_15  visitas_ultima_semana  visitas_ultimos_3  \\\n",
       "0                   9                      0                  0   \n",
       "1                  29                      0                  0   \n",
       "2                 105                     46                  0   \n",
       "3                 127                    102                102   \n",
       "4                  45                      0                  0   \n",
       "\n",
       "   total_checkout  checkouts_ultimo_mes  checkouts_ultima_semana  \\\n",
       "0               1                     1                        0   \n",
       "1               5                     5                        0   \n",
       "2               4                     1                        0   \n",
       "3               0                     0                        0   \n",
       "4               1                     1                        0   \n",
       "\n",
       "   total_compras  compras_ultimo_mes  compras_ultima_semana  subscripciones  \\\n",
       "0              0                   0                      0               0   \n",
       "1              0                   0                      0               0   \n",
       "2              1                   0                      0               0   \n",
       "3              0                   0                      0               0   \n",
       "4              0                   0                      0               0   \n",
       "\n",
       "   precio_max  precio_mean  precio_std  precio_min  label  \n",
       "0        1275          972         287         730    NaN  \n",
       "1        1275         1065         267         730    0.0  \n",
       "2        3009         1253         203         319    1.0  \n",
       "3        2099         1224         223         399    NaN  \n",
       "4        1275         1243         154         379    NaN  "
      ]
     },
     "execution_count": 38,
     "metadata": {},
     "output_type": "execute_result"
    }
   ],
   "source": [
    "modelo=pd.merge(modelo, training, on='person', how='left')\n",
    "modelo.iloc[:,1:-1]=modelo.iloc[:,1:-1].astype(np.int64)\n",
    "modelo.head()"
   ]
  },
  {
   "cell_type": "code",
   "execution_count": 39,
   "metadata": {},
   "outputs": [
    {
     "name": "stdout",
     "output_type": "stream",
     "text": [
      "<class 'pandas.core.frame.DataFrame'>\n",
      "Int64Index: 38830 entries, 0 to 38829\n",
      "Data columns (total 42 columns):\n",
      "person                                    38830 non-null object\n",
      "horas_distintas                           38830 non-null int64\n",
      "ad campaign hit                           38830 non-null int64\n",
      "brand listing                             38830 non-null int64\n",
      "checkout                                  38830 non-null int64\n",
      "conversion                                38830 non-null int64\n",
      "generic listing                           38830 non-null int64\n",
      "lead                                      38830 non-null int64\n",
      "search engine hit                         38830 non-null int64\n",
      "searched products                         38830 non-null int64\n",
      "staticpage                                38830 non-null int64\n",
      "viewed product                            38830 non-null int64\n",
      "visited site                              38830 non-null int64\n",
      "dias_distintos                            38830 non-null int64\n",
      "dias_distintos_ultima_semana              38830 non-null int64\n",
      "dias_distintos_de_la_semana               38830 non-null int64\n",
      "dias_distintos_de_la_semana_last_month    38830 non-null int64\n",
      "ultima_visita                             38830 non-null int64\n",
      "compras_por_dia_semana                    38830 non-null int64\n",
      "modelos_distintos_vistos                  38830 non-null int64\n",
      "marcas_distintas                          38830 non-null int64\n",
      "celular_mas_visto                         38830 non-null int64\n",
      "modelos_por_color                         38830 non-null int64\n",
      "eventos_distintos                         38830 non-null int64\n",
      "campaña_ultima_semana                     38830 non-null int64\n",
      "total_visitas_usuario                     38830 non-null int64\n",
      "visitas_ultimo_mes                        38830 non-null int64\n",
      "visitas_ultimos_15                        38830 non-null int64\n",
      "visitas_ultima_semana                     38830 non-null int64\n",
      "visitas_ultimos_3                         38830 non-null int64\n",
      "total_checkout                            38830 non-null int64\n",
      "checkouts_ultimo_mes                      38830 non-null int64\n",
      "checkouts_ultima_semana                   38830 non-null int64\n",
      "total_compras                             38830 non-null int64\n",
      "compras_ultimo_mes                        38830 non-null int64\n",
      "compras_ultima_semana                     38830 non-null int64\n",
      "subscripciones                            38830 non-null int64\n",
      "precio_max                                38830 non-null int64\n",
      "precio_mean                               38830 non-null int64\n",
      "precio_std                                38830 non-null int64\n",
      "precio_min                                38830 non-null int64\n",
      "label                                     19414 non-null float64\n",
      "dtypes: float64(1), int64(40), object(1)\n",
      "memory usage: 12.7+ MB\n"
     ]
    }
   ],
   "source": [
    "modelo.info()"
   ]
  },
  {
   "cell_type": "markdown",
   "metadata": {},
   "source": [
    "## Test de datos a predecir en Kaggle"
   ]
  },
  {
   "cell_type": "code",
   "execution_count": 40,
   "metadata": {},
   "outputs": [
    {
     "data": {
      "text/html": [
       "<div>\n",
       "<style scoped>\n",
       "    .dataframe tbody tr th:only-of-type {\n",
       "        vertical-align: middle;\n",
       "    }\n",
       "\n",
       "    .dataframe tbody tr th {\n",
       "        vertical-align: top;\n",
       "    }\n",
       "\n",
       "    .dataframe thead th {\n",
       "        text-align: right;\n",
       "    }\n",
       "</style>\n",
       "<table border=\"1\" class=\"dataframe\">\n",
       "  <thead>\n",
       "    <tr style=\"text-align: right;\">\n",
       "      <th></th>\n",
       "      <th>person</th>\n",
       "      <th>horas_distintas</th>\n",
       "      <th>ad campaign hit</th>\n",
       "      <th>brand listing</th>\n",
       "      <th>checkout</th>\n",
       "      <th>conversion</th>\n",
       "      <th>generic listing</th>\n",
       "      <th>lead</th>\n",
       "      <th>search engine hit</th>\n",
       "      <th>searched products</th>\n",
       "      <th>staticpage</th>\n",
       "      <th>viewed product</th>\n",
       "      <th>visited site</th>\n",
       "      <th>dias_distintos</th>\n",
       "      <th>dias_distintos_ultima_semana</th>\n",
       "      <th>dias_distintos_de_la_semana</th>\n",
       "      <th>dias_distintos_de_la_semana_last_month</th>\n",
       "      <th>ultima_visita</th>\n",
       "      <th>compras_por_dia_semana</th>\n",
       "      <th>modelos_distintos_vistos</th>\n",
       "      <th>marcas_distintas</th>\n",
       "      <th>celular_mas_visto</th>\n",
       "      <th>modelos_por_color</th>\n",
       "      <th>eventos_distintos</th>\n",
       "      <th>campaña_ultima_semana</th>\n",
       "      <th>total_visitas_usuario</th>\n",
       "      <th>visitas_ultimo_mes</th>\n",
       "      <th>visitas_ultimos_15</th>\n",
       "      <th>visitas_ultima_semana</th>\n",
       "      <th>visitas_ultimos_3</th>\n",
       "      <th>total_checkout</th>\n",
       "      <th>checkouts_ultimo_mes</th>\n",
       "      <th>checkouts_ultima_semana</th>\n",
       "      <th>total_compras</th>\n",
       "      <th>compras_ultimo_mes</th>\n",
       "      <th>compras_ultima_semana</th>\n",
       "      <th>subscripciones</th>\n",
       "      <th>precio_max</th>\n",
       "      <th>precio_mean</th>\n",
       "      <th>precio_std</th>\n",
       "      <th>precio_min</th>\n",
       "      <th>label</th>\n",
       "    </tr>\n",
       "  </thead>\n",
       "  <tbody>\n",
       "    <tr>\n",
       "      <th>0</th>\n",
       "      <td>4886f805</td>\n",
       "      <td>1</td>\n",
       "      <td>0</td>\n",
       "      <td>0</td>\n",
       "      <td>1</td>\n",
       "      <td>0</td>\n",
       "      <td>1</td>\n",
       "      <td>0</td>\n",
       "      <td>1</td>\n",
       "      <td>1</td>\n",
       "      <td>0</td>\n",
       "      <td>4</td>\n",
       "      <td>1</td>\n",
       "      <td>1</td>\n",
       "      <td>0</td>\n",
       "      <td>1</td>\n",
       "      <td>1</td>\n",
       "      <td>138</td>\n",
       "      <td>8046</td>\n",
       "      <td>1</td>\n",
       "      <td>1</td>\n",
       "      <td>5</td>\n",
       "      <td>0</td>\n",
       "      <td>6</td>\n",
       "      <td>0</td>\n",
       "      <td>9</td>\n",
       "      <td>9</td>\n",
       "      <td>9</td>\n",
       "      <td>0</td>\n",
       "      <td>0</td>\n",
       "      <td>1</td>\n",
       "      <td>1</td>\n",
       "      <td>0</td>\n",
       "      <td>0</td>\n",
       "      <td>0</td>\n",
       "      <td>0</td>\n",
       "      <td>0</td>\n",
       "      <td>1275</td>\n",
       "      <td>972</td>\n",
       "      <td>287</td>\n",
       "      <td>730</td>\n",
       "      <td>NaN</td>\n",
       "    </tr>\n",
       "    <tr>\n",
       "      <th>3</th>\n",
       "      <td>0ec008ff</td>\n",
       "      <td>4</td>\n",
       "      <td>9</td>\n",
       "      <td>31</td>\n",
       "      <td>0</td>\n",
       "      <td>0</td>\n",
       "      <td>5</td>\n",
       "      <td>0</td>\n",
       "      <td>5</td>\n",
       "      <td>0</td>\n",
       "      <td>0</td>\n",
       "      <td>83</td>\n",
       "      <td>3</td>\n",
       "      <td>3</td>\n",
       "      <td>1</td>\n",
       "      <td>2</td>\n",
       "      <td>2</td>\n",
       "      <td>151</td>\n",
       "      <td>180525</td>\n",
       "      <td>35</td>\n",
       "      <td>4</td>\n",
       "      <td>9</td>\n",
       "      <td>3</td>\n",
       "      <td>6</td>\n",
       "      <td>1</td>\n",
       "      <td>136</td>\n",
       "      <td>136</td>\n",
       "      <td>127</td>\n",
       "      <td>102</td>\n",
       "      <td>102</td>\n",
       "      <td>0</td>\n",
       "      <td>0</td>\n",
       "      <td>0</td>\n",
       "      <td>0</td>\n",
       "      <td>0</td>\n",
       "      <td>0</td>\n",
       "      <td>0</td>\n",
       "      <td>2099</td>\n",
       "      <td>1224</td>\n",
       "      <td>223</td>\n",
       "      <td>399</td>\n",
       "      <td>NaN</td>\n",
       "    </tr>\n",
       "    <tr>\n",
       "      <th>4</th>\n",
       "      <td>4f06f2dd</td>\n",
       "      <td>4</td>\n",
       "      <td>6</td>\n",
       "      <td>3</td>\n",
       "      <td>1</td>\n",
       "      <td>0</td>\n",
       "      <td>0</td>\n",
       "      <td>0</td>\n",
       "      <td>1</td>\n",
       "      <td>0</td>\n",
       "      <td>0</td>\n",
       "      <td>31</td>\n",
       "      <td>3</td>\n",
       "      <td>2</td>\n",
       "      <td>0</td>\n",
       "      <td>2</td>\n",
       "      <td>2</td>\n",
       "      <td>142</td>\n",
       "      <td>48747</td>\n",
       "      <td>15</td>\n",
       "      <td>5</td>\n",
       "      <td>16</td>\n",
       "      <td>1</td>\n",
       "      <td>6</td>\n",
       "      <td>0</td>\n",
       "      <td>45</td>\n",
       "      <td>45</td>\n",
       "      <td>45</td>\n",
       "      <td>0</td>\n",
       "      <td>0</td>\n",
       "      <td>1</td>\n",
       "      <td>1</td>\n",
       "      <td>0</td>\n",
       "      <td>0</td>\n",
       "      <td>0</td>\n",
       "      <td>0</td>\n",
       "      <td>0</td>\n",
       "      <td>1275</td>\n",
       "      <td>1243</td>\n",
       "      <td>154</td>\n",
       "      <td>379</td>\n",
       "      <td>NaN</td>\n",
       "    </tr>\n",
       "    <tr>\n",
       "      <th>7</th>\n",
       "      <td>b51c3897</td>\n",
       "      <td>2</td>\n",
       "      <td>0</td>\n",
       "      <td>18</td>\n",
       "      <td>1</td>\n",
       "      <td>1</td>\n",
       "      <td>3</td>\n",
       "      <td>0</td>\n",
       "      <td>3</td>\n",
       "      <td>0</td>\n",
       "      <td>0</td>\n",
       "      <td>53</td>\n",
       "      <td>1</td>\n",
       "      <td>1</td>\n",
       "      <td>1</td>\n",
       "      <td>1</td>\n",
       "      <td>1</td>\n",
       "      <td>149</td>\n",
       "      <td>111600</td>\n",
       "      <td>12</td>\n",
       "      <td>3</td>\n",
       "      <td>24</td>\n",
       "      <td>1</td>\n",
       "      <td>7</td>\n",
       "      <td>0</td>\n",
       "      <td>80</td>\n",
       "      <td>80</td>\n",
       "      <td>80</td>\n",
       "      <td>80</td>\n",
       "      <td>80</td>\n",
       "      <td>1</td>\n",
       "      <td>1</td>\n",
       "      <td>1</td>\n",
       "      <td>1</td>\n",
       "      <td>1</td>\n",
       "      <td>1</td>\n",
       "      <td>0</td>\n",
       "      <td>2229</td>\n",
       "      <td>1249</td>\n",
       "      <td>187</td>\n",
       "      <td>399</td>\n",
       "      <td>NaN</td>\n",
       "    </tr>\n",
       "    <tr>\n",
       "      <th>8</th>\n",
       "      <td>67ec6a13</td>\n",
       "      <td>5</td>\n",
       "      <td>0</td>\n",
       "      <td>48</td>\n",
       "      <td>0</td>\n",
       "      <td>0</td>\n",
       "      <td>18</td>\n",
       "      <td>0</td>\n",
       "      <td>0</td>\n",
       "      <td>0</td>\n",
       "      <td>0</td>\n",
       "      <td>23</td>\n",
       "      <td>9</td>\n",
       "      <td>7</td>\n",
       "      <td>2</td>\n",
       "      <td>5</td>\n",
       "      <td>5</td>\n",
       "      <td>149</td>\n",
       "      <td>94560</td>\n",
       "      <td>13</td>\n",
       "      <td>5</td>\n",
       "      <td>6</td>\n",
       "      <td>1</td>\n",
       "      <td>4</td>\n",
       "      <td>0</td>\n",
       "      <td>98</td>\n",
       "      <td>98</td>\n",
       "      <td>59</td>\n",
       "      <td>33</td>\n",
       "      <td>18</td>\n",
       "      <td>0</td>\n",
       "      <td>0</td>\n",
       "      <td>0</td>\n",
       "      <td>0</td>\n",
       "      <td>0</td>\n",
       "      <td>0</td>\n",
       "      <td>0</td>\n",
       "      <td>1959</td>\n",
       "      <td>1252</td>\n",
       "      <td>153</td>\n",
       "      <td>730</td>\n",
       "      <td>NaN</td>\n",
       "    </tr>\n",
       "  </tbody>\n",
       "</table>\n",
       "</div>"
      ],
      "text/plain": [
       "     person  horas_distintas  ad campaign hit  brand listing  checkout  \\\n",
       "0  4886f805                1                0              0         1   \n",
       "3  0ec008ff                4                9             31         0   \n",
       "4  4f06f2dd                4                6              3         1   \n",
       "7  b51c3897                2                0             18         1   \n",
       "8  67ec6a13                5                0             48         0   \n",
       "\n",
       "   conversion  generic listing  lead  search engine hit  searched products  \\\n",
       "0           0                1     0                  1                  1   \n",
       "3           0                5     0                  5                  0   \n",
       "4           0                0     0                  1                  0   \n",
       "7           1                3     0                  3                  0   \n",
       "8           0               18     0                  0                  0   \n",
       "\n",
       "   staticpage  viewed product  visited site  dias_distintos  \\\n",
       "0           0               4             1               1   \n",
       "3           0              83             3               3   \n",
       "4           0              31             3               2   \n",
       "7           0              53             1               1   \n",
       "8           0              23             9               7   \n",
       "\n",
       "   dias_distintos_ultima_semana  dias_distintos_de_la_semana  \\\n",
       "0                             0                            1   \n",
       "3                             1                            2   \n",
       "4                             0                            2   \n",
       "7                             1                            1   \n",
       "8                             2                            5   \n",
       "\n",
       "   dias_distintos_de_la_semana_last_month  ultima_visita  \\\n",
       "0                                       1            138   \n",
       "3                                       2            151   \n",
       "4                                       2            142   \n",
       "7                                       1            149   \n",
       "8                                       5            149   \n",
       "\n",
       "   compras_por_dia_semana  modelos_distintos_vistos  marcas_distintas  \\\n",
       "0                    8046                         1                 1   \n",
       "3                  180525                        35                 4   \n",
       "4                   48747                        15                 5   \n",
       "7                  111600                        12                 3   \n",
       "8                   94560                        13                 5   \n",
       "\n",
       "   celular_mas_visto  modelos_por_color  eventos_distintos  \\\n",
       "0                  5                  0                  6   \n",
       "3                  9                  3                  6   \n",
       "4                 16                  1                  6   \n",
       "7                 24                  1                  7   \n",
       "8                  6                  1                  4   \n",
       "\n",
       "   campaña_ultima_semana  total_visitas_usuario  visitas_ultimo_mes  \\\n",
       "0                      0                      9                   9   \n",
       "3                      1                    136                 136   \n",
       "4                      0                     45                  45   \n",
       "7                      0                     80                  80   \n",
       "8                      0                     98                  98   \n",
       "\n",
       "   visitas_ultimos_15  visitas_ultima_semana  visitas_ultimos_3  \\\n",
       "0                   9                      0                  0   \n",
       "3                 127                    102                102   \n",
       "4                  45                      0                  0   \n",
       "7                  80                     80                 80   \n",
       "8                  59                     33                 18   \n",
       "\n",
       "   total_checkout  checkouts_ultimo_mes  checkouts_ultima_semana  \\\n",
       "0               1                     1                        0   \n",
       "3               0                     0                        0   \n",
       "4               1                     1                        0   \n",
       "7               1                     1                        1   \n",
       "8               0                     0                        0   \n",
       "\n",
       "   total_compras  compras_ultimo_mes  compras_ultima_semana  subscripciones  \\\n",
       "0              0                   0                      0               0   \n",
       "3              0                   0                      0               0   \n",
       "4              0                   0                      0               0   \n",
       "7              1                   1                      1               0   \n",
       "8              0                   0                      0               0   \n",
       "\n",
       "   precio_max  precio_mean  precio_std  precio_min  label  \n",
       "0        1275          972         287         730    NaN  \n",
       "3        2099         1224         223         399    NaN  \n",
       "4        1275         1243         154         379    NaN  \n",
       "7        2229         1249         187         399    NaN  \n",
       "8        1959         1252         153         730    NaN  "
      ]
     },
     "execution_count": 40,
     "metadata": {},
     "output_type": "execute_result"
    }
   ],
   "source": [
    "a_predecir=modelo[modelo['label'].isnull()]\n",
    "a_predecir.head()"
   ]
  },
  {
   "cell_type": "markdown",
   "metadata": {},
   "source": [
    "## Modelo a entrenar"
   ]
  },
  {
   "cell_type": "code",
   "execution_count": 41,
   "metadata": {},
   "outputs": [
    {
     "data": {
      "text/html": [
       "<div>\n",
       "<style scoped>\n",
       "    .dataframe tbody tr th:only-of-type {\n",
       "        vertical-align: middle;\n",
       "    }\n",
       "\n",
       "    .dataframe tbody tr th {\n",
       "        vertical-align: top;\n",
       "    }\n",
       "\n",
       "    .dataframe thead th {\n",
       "        text-align: right;\n",
       "    }\n",
       "</style>\n",
       "<table border=\"1\" class=\"dataframe\">\n",
       "  <thead>\n",
       "    <tr style=\"text-align: right;\">\n",
       "      <th></th>\n",
       "      <th>person</th>\n",
       "      <th>horas_distintas</th>\n",
       "      <th>ad campaign hit</th>\n",
       "      <th>brand listing</th>\n",
       "      <th>checkout</th>\n",
       "      <th>conversion</th>\n",
       "      <th>generic listing</th>\n",
       "      <th>lead</th>\n",
       "      <th>search engine hit</th>\n",
       "      <th>searched products</th>\n",
       "      <th>staticpage</th>\n",
       "      <th>viewed product</th>\n",
       "      <th>visited site</th>\n",
       "      <th>dias_distintos</th>\n",
       "      <th>dias_distintos_ultima_semana</th>\n",
       "      <th>dias_distintos_de_la_semana</th>\n",
       "      <th>dias_distintos_de_la_semana_last_month</th>\n",
       "      <th>ultima_visita</th>\n",
       "      <th>compras_por_dia_semana</th>\n",
       "      <th>modelos_distintos_vistos</th>\n",
       "      <th>marcas_distintas</th>\n",
       "      <th>celular_mas_visto</th>\n",
       "      <th>modelos_por_color</th>\n",
       "      <th>eventos_distintos</th>\n",
       "      <th>campaña_ultima_semana</th>\n",
       "      <th>total_visitas_usuario</th>\n",
       "      <th>visitas_ultimo_mes</th>\n",
       "      <th>visitas_ultimos_15</th>\n",
       "      <th>visitas_ultima_semana</th>\n",
       "      <th>visitas_ultimos_3</th>\n",
       "      <th>total_checkout</th>\n",
       "      <th>checkouts_ultimo_mes</th>\n",
       "      <th>checkouts_ultima_semana</th>\n",
       "      <th>total_compras</th>\n",
       "      <th>compras_ultimo_mes</th>\n",
       "      <th>compras_ultima_semana</th>\n",
       "      <th>subscripciones</th>\n",
       "      <th>precio_max</th>\n",
       "      <th>precio_mean</th>\n",
       "      <th>precio_std</th>\n",
       "      <th>precio_min</th>\n",
       "      <th>label</th>\n",
       "    </tr>\n",
       "  </thead>\n",
       "  <tbody>\n",
       "    <tr>\n",
       "      <th>1</th>\n",
       "      <td>2e225ac4</td>\n",
       "      <td>4</td>\n",
       "      <td>14</td>\n",
       "      <td>0</td>\n",
       "      <td>5</td>\n",
       "      <td>0</td>\n",
       "      <td>2</td>\n",
       "      <td>0</td>\n",
       "      <td>13</td>\n",
       "      <td>0</td>\n",
       "      <td>0</td>\n",
       "      <td>15</td>\n",
       "      <td>3</td>\n",
       "      <td>3</td>\n",
       "      <td>0</td>\n",
       "      <td>3</td>\n",
       "      <td>3</td>\n",
       "      <td>138</td>\n",
       "      <td>38860</td>\n",
       "      <td>1</td>\n",
       "      <td>1</td>\n",
       "      <td>20</td>\n",
       "      <td>0</td>\n",
       "      <td>6</td>\n",
       "      <td>0</td>\n",
       "      <td>52</td>\n",
       "      <td>52</td>\n",
       "      <td>29</td>\n",
       "      <td>0</td>\n",
       "      <td>0</td>\n",
       "      <td>5</td>\n",
       "      <td>5</td>\n",
       "      <td>0</td>\n",
       "      <td>0</td>\n",
       "      <td>0</td>\n",
       "      <td>0</td>\n",
       "      <td>0</td>\n",
       "      <td>1275</td>\n",
       "      <td>1065</td>\n",
       "      <td>267</td>\n",
       "      <td>730</td>\n",
       "      <td>0</td>\n",
       "    </tr>\n",
       "    <tr>\n",
       "      <th>2</th>\n",
       "      <td>fc278339</td>\n",
       "      <td>19</td>\n",
       "      <td>22</td>\n",
       "      <td>144</td>\n",
       "      <td>4</td>\n",
       "      <td>1</td>\n",
       "      <td>34</td>\n",
       "      <td>0</td>\n",
       "      <td>6</td>\n",
       "      <td>0</td>\n",
       "      <td>0</td>\n",
       "      <td>132</td>\n",
       "      <td>65</td>\n",
       "      <td>7</td>\n",
       "      <td>3</td>\n",
       "      <td>7</td>\n",
       "      <td>4</td>\n",
       "      <td>147</td>\n",
       "      <td>476787</td>\n",
       "      <td>38</td>\n",
       "      <td>5</td>\n",
       "      <td>21</td>\n",
       "      <td>2</td>\n",
       "      <td>8</td>\n",
       "      <td>1</td>\n",
       "      <td>408</td>\n",
       "      <td>119</td>\n",
       "      <td>105</td>\n",
       "      <td>46</td>\n",
       "      <td>0</td>\n",
       "      <td>4</td>\n",
       "      <td>1</td>\n",
       "      <td>0</td>\n",
       "      <td>1</td>\n",
       "      <td>0</td>\n",
       "      <td>0</td>\n",
       "      <td>0</td>\n",
       "      <td>3009</td>\n",
       "      <td>1253</td>\n",
       "      <td>203</td>\n",
       "      <td>319</td>\n",
       "      <td>1</td>\n",
       "    </tr>\n",
       "    <tr>\n",
       "      <th>5</th>\n",
       "      <td>b6ff254a</td>\n",
       "      <td>4</td>\n",
       "      <td>4</td>\n",
       "      <td>0</td>\n",
       "      <td>2</td>\n",
       "      <td>0</td>\n",
       "      <td>3</td>\n",
       "      <td>0</td>\n",
       "      <td>5</td>\n",
       "      <td>3</td>\n",
       "      <td>0</td>\n",
       "      <td>21</td>\n",
       "      <td>6</td>\n",
       "      <td>3</td>\n",
       "      <td>0</td>\n",
       "      <td>3</td>\n",
       "      <td>2</td>\n",
       "      <td>138</td>\n",
       "      <td>58675</td>\n",
       "      <td>4</td>\n",
       "      <td>2</td>\n",
       "      <td>18</td>\n",
       "      <td>0</td>\n",
       "      <td>7</td>\n",
       "      <td>0</td>\n",
       "      <td>44</td>\n",
       "      <td>38</td>\n",
       "      <td>23</td>\n",
       "      <td>0</td>\n",
       "      <td>0</td>\n",
       "      <td>2</td>\n",
       "      <td>2</td>\n",
       "      <td>0</td>\n",
       "      <td>0</td>\n",
       "      <td>0</td>\n",
       "      <td>0</td>\n",
       "      <td>0</td>\n",
       "      <td>2469</td>\n",
       "      <td>1198</td>\n",
       "      <td>341</td>\n",
       "      <td>619</td>\n",
       "      <td>0</td>\n",
       "    </tr>\n",
       "    <tr>\n",
       "      <th>6</th>\n",
       "      <td>5cc1dc20</td>\n",
       "      <td>1</td>\n",
       "      <td>2</td>\n",
       "      <td>0</td>\n",
       "      <td>1</td>\n",
       "      <td>0</td>\n",
       "      <td>0</td>\n",
       "      <td>0</td>\n",
       "      <td>0</td>\n",
       "      <td>0</td>\n",
       "      <td>0</td>\n",
       "      <td>2</td>\n",
       "      <td>1</td>\n",
       "      <td>1</td>\n",
       "      <td>0</td>\n",
       "      <td>1</td>\n",
       "      <td>1</td>\n",
       "      <td>138</td>\n",
       "      <td>5364</td>\n",
       "      <td>1</td>\n",
       "      <td>1</td>\n",
       "      <td>3</td>\n",
       "      <td>0</td>\n",
       "      <td>4</td>\n",
       "      <td>0</td>\n",
       "      <td>6</td>\n",
       "      <td>6</td>\n",
       "      <td>6</td>\n",
       "      <td>0</td>\n",
       "      <td>0</td>\n",
       "      <td>1</td>\n",
       "      <td>1</td>\n",
       "      <td>0</td>\n",
       "      <td>0</td>\n",
       "      <td>0</td>\n",
       "      <td>0</td>\n",
       "      <td>0</td>\n",
       "      <td>1275</td>\n",
       "      <td>1002</td>\n",
       "      <td>298</td>\n",
       "      <td>730</td>\n",
       "      <td>0</td>\n",
       "    </tr>\n",
       "    <tr>\n",
       "      <th>13</th>\n",
       "      <td>05ad382c</td>\n",
       "      <td>2</td>\n",
       "      <td>1</td>\n",
       "      <td>1</td>\n",
       "      <td>1</td>\n",
       "      <td>0</td>\n",
       "      <td>4</td>\n",
       "      <td>0</td>\n",
       "      <td>1</td>\n",
       "      <td>2</td>\n",
       "      <td>0</td>\n",
       "      <td>12</td>\n",
       "      <td>1</td>\n",
       "      <td>1</td>\n",
       "      <td>1</td>\n",
       "      <td>1</td>\n",
       "      <td>1</td>\n",
       "      <td>149</td>\n",
       "      <td>32085</td>\n",
       "      <td>8</td>\n",
       "      <td>2</td>\n",
       "      <td>4</td>\n",
       "      <td>2</td>\n",
       "      <td>8</td>\n",
       "      <td>1</td>\n",
       "      <td>23</td>\n",
       "      <td>23</td>\n",
       "      <td>23</td>\n",
       "      <td>23</td>\n",
       "      <td>23</td>\n",
       "      <td>1</td>\n",
       "      <td>1</td>\n",
       "      <td>1</td>\n",
       "      <td>0</td>\n",
       "      <td>0</td>\n",
       "      <td>0</td>\n",
       "      <td>0</td>\n",
       "      <td>1799</td>\n",
       "      <td>1243</td>\n",
       "      <td>176</td>\n",
       "      <td>730</td>\n",
       "      <td>0</td>\n",
       "    </tr>\n",
       "  </tbody>\n",
       "</table>\n",
       "</div>"
      ],
      "text/plain": [
       "      person  horas_distintas  ad campaign hit  brand listing  checkout  \\\n",
       "1   2e225ac4                4               14              0         5   \n",
       "2   fc278339               19               22            144         4   \n",
       "5   b6ff254a                4                4              0         2   \n",
       "6   5cc1dc20                1                2              0         1   \n",
       "13  05ad382c                2                1              1         1   \n",
       "\n",
       "    conversion  generic listing  lead  search engine hit  searched products  \\\n",
       "1            0                2     0                 13                  0   \n",
       "2            1               34     0                  6                  0   \n",
       "5            0                3     0                  5                  3   \n",
       "6            0                0     0                  0                  0   \n",
       "13           0                4     0                  1                  2   \n",
       "\n",
       "    staticpage  viewed product  visited site  dias_distintos  \\\n",
       "1            0              15             3               3   \n",
       "2            0             132            65               7   \n",
       "5            0              21             6               3   \n",
       "6            0               2             1               1   \n",
       "13           0              12             1               1   \n",
       "\n",
       "    dias_distintos_ultima_semana  dias_distintos_de_la_semana  \\\n",
       "1                              0                            3   \n",
       "2                              3                            7   \n",
       "5                              0                            3   \n",
       "6                              0                            1   \n",
       "13                             1                            1   \n",
       "\n",
       "    dias_distintos_de_la_semana_last_month  ultima_visita  \\\n",
       "1                                        3            138   \n",
       "2                                        4            147   \n",
       "5                                        2            138   \n",
       "6                                        1            138   \n",
       "13                                       1            149   \n",
       "\n",
       "    compras_por_dia_semana  modelos_distintos_vistos  marcas_distintas  \\\n",
       "1                    38860                         1                 1   \n",
       "2                   476787                        38                 5   \n",
       "5                    58675                         4                 2   \n",
       "6                     5364                         1                 1   \n",
       "13                   32085                         8                 2   \n",
       "\n",
       "    celular_mas_visto  modelos_por_color  eventos_distintos  \\\n",
       "1                  20                  0                  6   \n",
       "2                  21                  2                  8   \n",
       "5                  18                  0                  7   \n",
       "6                   3                  0                  4   \n",
       "13                  4                  2                  8   \n",
       "\n",
       "    campaña_ultima_semana  total_visitas_usuario  visitas_ultimo_mes  \\\n",
       "1                       0                     52                  52   \n",
       "2                       1                    408                 119   \n",
       "5                       0                     44                  38   \n",
       "6                       0                      6                   6   \n",
       "13                      1                     23                  23   \n",
       "\n",
       "    visitas_ultimos_15  visitas_ultima_semana  visitas_ultimos_3  \\\n",
       "1                   29                      0                  0   \n",
       "2                  105                     46                  0   \n",
       "5                   23                      0                  0   \n",
       "6                    6                      0                  0   \n",
       "13                  23                     23                 23   \n",
       "\n",
       "    total_checkout  checkouts_ultimo_mes  checkouts_ultima_semana  \\\n",
       "1                5                     5                        0   \n",
       "2                4                     1                        0   \n",
       "5                2                     2                        0   \n",
       "6                1                     1                        0   \n",
       "13               1                     1                        1   \n",
       "\n",
       "    total_compras  compras_ultimo_mes  compras_ultima_semana  subscripciones  \\\n",
       "1               0                   0                      0               0   \n",
       "2               1                   0                      0               0   \n",
       "5               0                   0                      0               0   \n",
       "6               0                   0                      0               0   \n",
       "13              0                   0                      0               0   \n",
       "\n",
       "    precio_max  precio_mean  precio_std  precio_min  label  \n",
       "1         1275         1065         267         730      0  \n",
       "2         3009         1253         203         319      1  \n",
       "5         2469         1198         341         619      0  \n",
       "6         1275         1002         298         730      0  \n",
       "13        1799         1243         176         730      0  "
      ]
     },
     "execution_count": 41,
     "metadata": {},
     "output_type": "execute_result"
    }
   ],
   "source": [
    "modelo.drop(modelo[modelo['label'].isnull()].index,inplace=True)\n",
    "modelo['label']=modelo['label'].astype(int)\n",
    "modelo.head()"
   ]
  },
  {
   "cell_type": "markdown",
   "metadata": {},
   "source": [
    "## Analisis"
   ]
  },
  {
   "cell_type": "code",
   "execution_count": 42,
   "metadata": {},
   "outputs": [
    {
     "data": {
      "text/plain": [
       "(980, 18434)"
      ]
     },
     "execution_count": 42,
     "metadata": {},
     "output_type": "execute_result"
    }
   ],
   "source": [
    "len(modelo[modelo['label']==1]),len(modelo[modelo['label']==0]) "
   ]
  },
  {
   "cell_type": "code",
   "execution_count": 43,
   "metadata": {},
   "outputs": [
    {
     "data": {
      "text/plain": [
       "(5.047903574739879, 94.95209642526012)"
      ]
     },
     "execution_count": 43,
     "metadata": {},
     "output_type": "execute_result"
    }
   ],
   "source": [
    "len(modelo[modelo['label']==1])*100/len(modelo['label']),len(modelo[modelo['label']==0])*100/len(modelo['label'])"
   ]
  },
  {
   "cell_type": "code",
   "execution_count": 44,
   "metadata": {},
   "outputs": [
    {
     "data": {
      "text/html": [
       "<div>\n",
       "<style scoped>\n",
       "    .dataframe tbody tr th:only-of-type {\n",
       "        vertical-align: middle;\n",
       "    }\n",
       "\n",
       "    .dataframe tbody tr th {\n",
       "        vertical-align: top;\n",
       "    }\n",
       "\n",
       "    .dataframe thead th {\n",
       "        text-align: right;\n",
       "    }\n",
       "</style>\n",
       "<table border=\"1\" class=\"dataframe\">\n",
       "  <thead>\n",
       "    <tr style=\"text-align: right;\">\n",
       "      <th></th>\n",
       "      <th>person</th>\n",
       "      <th>horas_distintas</th>\n",
       "      <th>ad campaign hit</th>\n",
       "      <th>brand listing</th>\n",
       "      <th>checkout</th>\n",
       "      <th>conversion</th>\n",
       "      <th>generic listing</th>\n",
       "      <th>lead</th>\n",
       "      <th>search engine hit</th>\n",
       "      <th>searched products</th>\n",
       "      <th>staticpage</th>\n",
       "      <th>viewed product</th>\n",
       "      <th>visited site</th>\n",
       "      <th>dias_distintos</th>\n",
       "      <th>dias_distintos_ultima_semana</th>\n",
       "      <th>dias_distintos_de_la_semana</th>\n",
       "      <th>dias_distintos_de_la_semana_last_month</th>\n",
       "      <th>ultima_visita</th>\n",
       "      <th>compras_por_dia_semana</th>\n",
       "      <th>modelos_distintos_vistos</th>\n",
       "      <th>marcas_distintas</th>\n",
       "      <th>celular_mas_visto</th>\n",
       "      <th>modelos_por_color</th>\n",
       "      <th>eventos_distintos</th>\n",
       "      <th>campaña_ultima_semana</th>\n",
       "      <th>total_visitas_usuario</th>\n",
       "      <th>visitas_ultimo_mes</th>\n",
       "      <th>visitas_ultimos_15</th>\n",
       "      <th>visitas_ultima_semana</th>\n",
       "      <th>visitas_ultimos_3</th>\n",
       "      <th>total_checkout</th>\n",
       "      <th>checkouts_ultimo_mes</th>\n",
       "      <th>checkouts_ultima_semana</th>\n",
       "      <th>total_compras</th>\n",
       "      <th>compras_ultimo_mes</th>\n",
       "      <th>compras_ultima_semana</th>\n",
       "      <th>subscripciones</th>\n",
       "      <th>precio_max</th>\n",
       "      <th>precio_mean</th>\n",
       "      <th>precio_std</th>\n",
       "      <th>precio_min</th>\n",
       "      <th>label</th>\n",
       "    </tr>\n",
       "  </thead>\n",
       "  <tbody>\n",
       "    <tr>\n",
       "      <th>2</th>\n",
       "      <td>fc278339</td>\n",
       "      <td>19</td>\n",
       "      <td>22</td>\n",
       "      <td>144</td>\n",
       "      <td>4</td>\n",
       "      <td>1</td>\n",
       "      <td>34</td>\n",
       "      <td>0</td>\n",
       "      <td>6</td>\n",
       "      <td>0</td>\n",
       "      <td>0</td>\n",
       "      <td>132</td>\n",
       "      <td>65</td>\n",
       "      <td>7</td>\n",
       "      <td>3</td>\n",
       "      <td>7</td>\n",
       "      <td>4</td>\n",
       "      <td>147</td>\n",
       "      <td>476787</td>\n",
       "      <td>38</td>\n",
       "      <td>5</td>\n",
       "      <td>21</td>\n",
       "      <td>2</td>\n",
       "      <td>8</td>\n",
       "      <td>1</td>\n",
       "      <td>408</td>\n",
       "      <td>119</td>\n",
       "      <td>105</td>\n",
       "      <td>46</td>\n",
       "      <td>0</td>\n",
       "      <td>4</td>\n",
       "      <td>1</td>\n",
       "      <td>0</td>\n",
       "      <td>1</td>\n",
       "      <td>0</td>\n",
       "      <td>0</td>\n",
       "      <td>0</td>\n",
       "      <td>3009</td>\n",
       "      <td>1253</td>\n",
       "      <td>203</td>\n",
       "      <td>319</td>\n",
       "      <td>1</td>\n",
       "    </tr>\n",
       "    <tr>\n",
       "      <th>44</th>\n",
       "      <td>0d68d38e</td>\n",
       "      <td>8</td>\n",
       "      <td>11</td>\n",
       "      <td>23</td>\n",
       "      <td>4</td>\n",
       "      <td>3</td>\n",
       "      <td>10</td>\n",
       "      <td>0</td>\n",
       "      <td>5</td>\n",
       "      <td>0</td>\n",
       "      <td>1</td>\n",
       "      <td>54</td>\n",
       "      <td>8</td>\n",
       "      <td>3</td>\n",
       "      <td>2</td>\n",
       "      <td>3</td>\n",
       "      <td>2</td>\n",
       "      <td>150</td>\n",
       "      <td>159675</td>\n",
       "      <td>14</td>\n",
       "      <td>6</td>\n",
       "      <td>43</td>\n",
       "      <td>1</td>\n",
       "      <td>9</td>\n",
       "      <td>8</td>\n",
       "      <td>119</td>\n",
       "      <td>101</td>\n",
       "      <td>101</td>\n",
       "      <td>86</td>\n",
       "      <td>86</td>\n",
       "      <td>4</td>\n",
       "      <td>4</td>\n",
       "      <td>4</td>\n",
       "      <td>3</td>\n",
       "      <td>3</td>\n",
       "      <td>3</td>\n",
       "      <td>0</td>\n",
       "      <td>4000</td>\n",
       "      <td>1290</td>\n",
       "      <td>257</td>\n",
       "      <td>730</td>\n",
       "      <td>1</td>\n",
       "    </tr>\n",
       "    <tr>\n",
       "      <th>117</th>\n",
       "      <td>0da5ecfc</td>\n",
       "      <td>15</td>\n",
       "      <td>48</td>\n",
       "      <td>15</td>\n",
       "      <td>3</td>\n",
       "      <td>2</td>\n",
       "      <td>71</td>\n",
       "      <td>0</td>\n",
       "      <td>22</td>\n",
       "      <td>2</td>\n",
       "      <td>5</td>\n",
       "      <td>290</td>\n",
       "      <td>43</td>\n",
       "      <td>19</td>\n",
       "      <td>1</td>\n",
       "      <td>7</td>\n",
       "      <td>7</td>\n",
       "      <td>151</td>\n",
       "      <td>495050</td>\n",
       "      <td>35</td>\n",
       "      <td>6</td>\n",
       "      <td>122</td>\n",
       "      <td>1</td>\n",
       "      <td>10</td>\n",
       "      <td>1</td>\n",
       "      <td>501</td>\n",
       "      <td>366</td>\n",
       "      <td>56</td>\n",
       "      <td>12</td>\n",
       "      <td>12</td>\n",
       "      <td>3</td>\n",
       "      <td>3</td>\n",
       "      <td>0</td>\n",
       "      <td>2</td>\n",
       "      <td>2</td>\n",
       "      <td>0</td>\n",
       "      <td>0</td>\n",
       "      <td>3009</td>\n",
       "      <td>1141</td>\n",
       "      <td>461</td>\n",
       "      <td>319</td>\n",
       "      <td>1</td>\n",
       "    </tr>\n",
       "    <tr>\n",
       "      <th>148</th>\n",
       "      <td>acc30075</td>\n",
       "      <td>10</td>\n",
       "      <td>8</td>\n",
       "      <td>7</td>\n",
       "      <td>0</td>\n",
       "      <td>0</td>\n",
       "      <td>15</td>\n",
       "      <td>0</td>\n",
       "      <td>9</td>\n",
       "      <td>0</td>\n",
       "      <td>0</td>\n",
       "      <td>46</td>\n",
       "      <td>16</td>\n",
       "      <td>6</td>\n",
       "      <td>3</td>\n",
       "      <td>4</td>\n",
       "      <td>4</td>\n",
       "      <td>151</td>\n",
       "      <td>138725</td>\n",
       "      <td>13</td>\n",
       "      <td>3</td>\n",
       "      <td>15</td>\n",
       "      <td>1</td>\n",
       "      <td>6</td>\n",
       "      <td>5</td>\n",
       "      <td>101</td>\n",
       "      <td>101</td>\n",
       "      <td>101</td>\n",
       "      <td>66</td>\n",
       "      <td>66</td>\n",
       "      <td>0</td>\n",
       "      <td>0</td>\n",
       "      <td>0</td>\n",
       "      <td>0</td>\n",
       "      <td>0</td>\n",
       "      <td>0</td>\n",
       "      <td>0</td>\n",
       "      <td>2199</td>\n",
       "      <td>1202</td>\n",
       "      <td>263</td>\n",
       "      <td>399</td>\n",
       "      <td>1</td>\n",
       "    </tr>\n",
       "    <tr>\n",
       "      <th>216</th>\n",
       "      <td>c9c96c81</td>\n",
       "      <td>14</td>\n",
       "      <td>40</td>\n",
       "      <td>174</td>\n",
       "      <td>17</td>\n",
       "      <td>6</td>\n",
       "      <td>3</td>\n",
       "      <td>0</td>\n",
       "      <td>8</td>\n",
       "      <td>68</td>\n",
       "      <td>0</td>\n",
       "      <td>287</td>\n",
       "      <td>22</td>\n",
       "      <td>12</td>\n",
       "      <td>7</td>\n",
       "      <td>7</td>\n",
       "      <td>7</td>\n",
       "      <td>151</td>\n",
       "      <td>503247</td>\n",
       "      <td>41</td>\n",
       "      <td>5</td>\n",
       "      <td>57</td>\n",
       "      <td>4</td>\n",
       "      <td>9</td>\n",
       "      <td>15</td>\n",
       "      <td>625</td>\n",
       "      <td>625</td>\n",
       "      <td>589</td>\n",
       "      <td>345</td>\n",
       "      <td>143</td>\n",
       "      <td>17</td>\n",
       "      <td>17</td>\n",
       "      <td>11</td>\n",
       "      <td>6</td>\n",
       "      <td>6</td>\n",
       "      <td>4</td>\n",
       "      <td>0</td>\n",
       "      <td>1589</td>\n",
       "      <td>1246</td>\n",
       "      <td>148</td>\n",
       "      <td>399</td>\n",
       "      <td>1</td>\n",
       "    </tr>\n",
       "  </tbody>\n",
       "</table>\n",
       "</div>"
      ],
      "text/plain": [
       "       person  horas_distintas  ad campaign hit  brand listing  checkout  \\\n",
       "2    fc278339               19               22            144         4   \n",
       "44   0d68d38e                8               11             23         4   \n",
       "117  0da5ecfc               15               48             15         3   \n",
       "148  acc30075               10                8              7         0   \n",
       "216  c9c96c81               14               40            174        17   \n",
       "\n",
       "     conversion  generic listing  lead  search engine hit  searched products  \\\n",
       "2             1               34     0                  6                  0   \n",
       "44            3               10     0                  5                  0   \n",
       "117           2               71     0                 22                  2   \n",
       "148           0               15     0                  9                  0   \n",
       "216           6                3     0                  8                 68   \n",
       "\n",
       "     staticpage  viewed product  visited site  dias_distintos  \\\n",
       "2             0             132            65               7   \n",
       "44            1              54             8               3   \n",
       "117           5             290            43              19   \n",
       "148           0              46            16               6   \n",
       "216           0             287            22              12   \n",
       "\n",
       "     dias_distintos_ultima_semana  dias_distintos_de_la_semana  \\\n",
       "2                               3                            7   \n",
       "44                              2                            3   \n",
       "117                             1                            7   \n",
       "148                             3                            4   \n",
       "216                             7                            7   \n",
       "\n",
       "     dias_distintos_de_la_semana_last_month  ultima_visita  \\\n",
       "2                                         4            147   \n",
       "44                                        2            150   \n",
       "117                                       7            151   \n",
       "148                                       4            151   \n",
       "216                                       7            151   \n",
       "\n",
       "     compras_por_dia_semana  modelos_distintos_vistos  marcas_distintas  \\\n",
       "2                    476787                        38                 5   \n",
       "44                   159675                        14                 6   \n",
       "117                  495050                        35                 6   \n",
       "148                  138725                        13                 3   \n",
       "216                  503247                        41                 5   \n",
       "\n",
       "     celular_mas_visto  modelos_por_color  eventos_distintos  \\\n",
       "2                   21                  2                  8   \n",
       "44                  43                  1                  9   \n",
       "117                122                  1                 10   \n",
       "148                 15                  1                  6   \n",
       "216                 57                  4                  9   \n",
       "\n",
       "     campaña_ultima_semana  total_visitas_usuario  visitas_ultimo_mes  \\\n",
       "2                        1                    408                 119   \n",
       "44                       8                    119                 101   \n",
       "117                      1                    501                 366   \n",
       "148                      5                    101                 101   \n",
       "216                     15                    625                 625   \n",
       "\n",
       "     visitas_ultimos_15  visitas_ultima_semana  visitas_ultimos_3  \\\n",
       "2                   105                     46                  0   \n",
       "44                  101                     86                 86   \n",
       "117                  56                     12                 12   \n",
       "148                 101                     66                 66   \n",
       "216                 589                    345                143   \n",
       "\n",
       "     total_checkout  checkouts_ultimo_mes  checkouts_ultima_semana  \\\n",
       "2                 4                     1                        0   \n",
       "44                4                     4                        4   \n",
       "117               3                     3                        0   \n",
       "148               0                     0                        0   \n",
       "216              17                    17                       11   \n",
       "\n",
       "     total_compras  compras_ultimo_mes  compras_ultima_semana  subscripciones  \\\n",
       "2                1                   0                      0               0   \n",
       "44               3                   3                      3               0   \n",
       "117              2                   2                      0               0   \n",
       "148              0                   0                      0               0   \n",
       "216              6                   6                      4               0   \n",
       "\n",
       "     precio_max  precio_mean  precio_std  precio_min  label  \n",
       "2          3009         1253         203         319      1  \n",
       "44         4000         1290         257         730      1  \n",
       "117        3009         1141         461         319      1  \n",
       "148        2199         1202         263         399      1  \n",
       "216        1589         1246         148         399      1  "
      ]
     },
     "execution_count": 44,
     "metadata": {},
     "output_type": "execute_result"
    }
   ],
   "source": [
    "modelo[modelo['label']==1].head()"
   ]
  },
  {
   "cell_type": "code",
   "execution_count": 45,
   "metadata": {},
   "outputs": [
    {
     "data": {
      "text/html": [
       "<div>\n",
       "<style scoped>\n",
       "    .dataframe tbody tr th:only-of-type {\n",
       "        vertical-align: middle;\n",
       "    }\n",
       "\n",
       "    .dataframe tbody tr th {\n",
       "        vertical-align: top;\n",
       "    }\n",
       "\n",
       "    .dataframe thead th {\n",
       "        text-align: right;\n",
       "    }\n",
       "</style>\n",
       "<table border=\"1\" class=\"dataframe\">\n",
       "  <thead>\n",
       "    <tr style=\"text-align: right;\">\n",
       "      <th></th>\n",
       "      <th>person</th>\n",
       "      <th>horas_distintas</th>\n",
       "      <th>ad campaign hit</th>\n",
       "      <th>brand listing</th>\n",
       "      <th>checkout</th>\n",
       "      <th>conversion</th>\n",
       "      <th>generic listing</th>\n",
       "      <th>lead</th>\n",
       "      <th>search engine hit</th>\n",
       "      <th>searched products</th>\n",
       "      <th>staticpage</th>\n",
       "      <th>viewed product</th>\n",
       "      <th>visited site</th>\n",
       "      <th>dias_distintos</th>\n",
       "      <th>dias_distintos_ultima_semana</th>\n",
       "      <th>dias_distintos_de_la_semana</th>\n",
       "      <th>dias_distintos_de_la_semana_last_month</th>\n",
       "      <th>ultima_visita</th>\n",
       "      <th>compras_por_dia_semana</th>\n",
       "      <th>modelos_distintos_vistos</th>\n",
       "      <th>marcas_distintas</th>\n",
       "      <th>celular_mas_visto</th>\n",
       "      <th>modelos_por_color</th>\n",
       "      <th>eventos_distintos</th>\n",
       "      <th>campaña_ultima_semana</th>\n",
       "      <th>total_visitas_usuario</th>\n",
       "      <th>visitas_ultimo_mes</th>\n",
       "      <th>visitas_ultimos_15</th>\n",
       "      <th>visitas_ultima_semana</th>\n",
       "      <th>visitas_ultimos_3</th>\n",
       "      <th>total_checkout</th>\n",
       "      <th>checkouts_ultimo_mes</th>\n",
       "      <th>checkouts_ultima_semana</th>\n",
       "      <th>total_compras</th>\n",
       "      <th>compras_ultimo_mes</th>\n",
       "      <th>compras_ultima_semana</th>\n",
       "      <th>subscripciones</th>\n",
       "      <th>precio_max</th>\n",
       "      <th>precio_mean</th>\n",
       "      <th>precio_std</th>\n",
       "      <th>precio_min</th>\n",
       "      <th>label</th>\n",
       "    </tr>\n",
       "  </thead>\n",
       "  <tbody>\n",
       "    <tr>\n",
       "      <th>1</th>\n",
       "      <td>2e225ac4</td>\n",
       "      <td>4</td>\n",
       "      <td>14</td>\n",
       "      <td>0</td>\n",
       "      <td>5</td>\n",
       "      <td>0</td>\n",
       "      <td>2</td>\n",
       "      <td>0</td>\n",
       "      <td>13</td>\n",
       "      <td>0</td>\n",
       "      <td>0</td>\n",
       "      <td>15</td>\n",
       "      <td>3</td>\n",
       "      <td>3</td>\n",
       "      <td>0</td>\n",
       "      <td>3</td>\n",
       "      <td>3</td>\n",
       "      <td>138</td>\n",
       "      <td>38860</td>\n",
       "      <td>1</td>\n",
       "      <td>1</td>\n",
       "      <td>20</td>\n",
       "      <td>0</td>\n",
       "      <td>6</td>\n",
       "      <td>0</td>\n",
       "      <td>52</td>\n",
       "      <td>52</td>\n",
       "      <td>29</td>\n",
       "      <td>0</td>\n",
       "      <td>0</td>\n",
       "      <td>5</td>\n",
       "      <td>5</td>\n",
       "      <td>0</td>\n",
       "      <td>0</td>\n",
       "      <td>0</td>\n",
       "      <td>0</td>\n",
       "      <td>0</td>\n",
       "      <td>1275</td>\n",
       "      <td>1065</td>\n",
       "      <td>267</td>\n",
       "      <td>730</td>\n",
       "      <td>0</td>\n",
       "    </tr>\n",
       "    <tr>\n",
       "      <th>5</th>\n",
       "      <td>b6ff254a</td>\n",
       "      <td>4</td>\n",
       "      <td>4</td>\n",
       "      <td>0</td>\n",
       "      <td>2</td>\n",
       "      <td>0</td>\n",
       "      <td>3</td>\n",
       "      <td>0</td>\n",
       "      <td>5</td>\n",
       "      <td>3</td>\n",
       "      <td>0</td>\n",
       "      <td>21</td>\n",
       "      <td>6</td>\n",
       "      <td>3</td>\n",
       "      <td>0</td>\n",
       "      <td>3</td>\n",
       "      <td>2</td>\n",
       "      <td>138</td>\n",
       "      <td>58675</td>\n",
       "      <td>4</td>\n",
       "      <td>2</td>\n",
       "      <td>18</td>\n",
       "      <td>0</td>\n",
       "      <td>7</td>\n",
       "      <td>0</td>\n",
       "      <td>44</td>\n",
       "      <td>38</td>\n",
       "      <td>23</td>\n",
       "      <td>0</td>\n",
       "      <td>0</td>\n",
       "      <td>2</td>\n",
       "      <td>2</td>\n",
       "      <td>0</td>\n",
       "      <td>0</td>\n",
       "      <td>0</td>\n",
       "      <td>0</td>\n",
       "      <td>0</td>\n",
       "      <td>2469</td>\n",
       "      <td>1198</td>\n",
       "      <td>341</td>\n",
       "      <td>619</td>\n",
       "      <td>0</td>\n",
       "    </tr>\n",
       "    <tr>\n",
       "      <th>6</th>\n",
       "      <td>5cc1dc20</td>\n",
       "      <td>1</td>\n",
       "      <td>2</td>\n",
       "      <td>0</td>\n",
       "      <td>1</td>\n",
       "      <td>0</td>\n",
       "      <td>0</td>\n",
       "      <td>0</td>\n",
       "      <td>0</td>\n",
       "      <td>0</td>\n",
       "      <td>0</td>\n",
       "      <td>2</td>\n",
       "      <td>1</td>\n",
       "      <td>1</td>\n",
       "      <td>0</td>\n",
       "      <td>1</td>\n",
       "      <td>1</td>\n",
       "      <td>138</td>\n",
       "      <td>5364</td>\n",
       "      <td>1</td>\n",
       "      <td>1</td>\n",
       "      <td>3</td>\n",
       "      <td>0</td>\n",
       "      <td>4</td>\n",
       "      <td>0</td>\n",
       "      <td>6</td>\n",
       "      <td>6</td>\n",
       "      <td>6</td>\n",
       "      <td>0</td>\n",
       "      <td>0</td>\n",
       "      <td>1</td>\n",
       "      <td>1</td>\n",
       "      <td>0</td>\n",
       "      <td>0</td>\n",
       "      <td>0</td>\n",
       "      <td>0</td>\n",
       "      <td>0</td>\n",
       "      <td>1275</td>\n",
       "      <td>1002</td>\n",
       "      <td>298</td>\n",
       "      <td>730</td>\n",
       "      <td>0</td>\n",
       "    </tr>\n",
       "    <tr>\n",
       "      <th>13</th>\n",
       "      <td>05ad382c</td>\n",
       "      <td>2</td>\n",
       "      <td>1</td>\n",
       "      <td>1</td>\n",
       "      <td>1</td>\n",
       "      <td>0</td>\n",
       "      <td>4</td>\n",
       "      <td>0</td>\n",
       "      <td>1</td>\n",
       "      <td>2</td>\n",
       "      <td>0</td>\n",
       "      <td>12</td>\n",
       "      <td>1</td>\n",
       "      <td>1</td>\n",
       "      <td>1</td>\n",
       "      <td>1</td>\n",
       "      <td>1</td>\n",
       "      <td>149</td>\n",
       "      <td>32085</td>\n",
       "      <td>8</td>\n",
       "      <td>2</td>\n",
       "      <td>4</td>\n",
       "      <td>2</td>\n",
       "      <td>8</td>\n",
       "      <td>1</td>\n",
       "      <td>23</td>\n",
       "      <td>23</td>\n",
       "      <td>23</td>\n",
       "      <td>23</td>\n",
       "      <td>23</td>\n",
       "      <td>1</td>\n",
       "      <td>1</td>\n",
       "      <td>1</td>\n",
       "      <td>0</td>\n",
       "      <td>0</td>\n",
       "      <td>0</td>\n",
       "      <td>0</td>\n",
       "      <td>1799</td>\n",
       "      <td>1243</td>\n",
       "      <td>176</td>\n",
       "      <td>730</td>\n",
       "      <td>0</td>\n",
       "    </tr>\n",
       "    <tr>\n",
       "      <th>15</th>\n",
       "      <td>c7fba740</td>\n",
       "      <td>5</td>\n",
       "      <td>12</td>\n",
       "      <td>6</td>\n",
       "      <td>1</td>\n",
       "      <td>0</td>\n",
       "      <td>6</td>\n",
       "      <td>0</td>\n",
       "      <td>6</td>\n",
       "      <td>12</td>\n",
       "      <td>0</td>\n",
       "      <td>45</td>\n",
       "      <td>4</td>\n",
       "      <td>3</td>\n",
       "      <td>2</td>\n",
       "      <td>2</td>\n",
       "      <td>2</td>\n",
       "      <td>149</td>\n",
       "      <td>128430</td>\n",
       "      <td>13</td>\n",
       "      <td>3</td>\n",
       "      <td>19</td>\n",
       "      <td>1</td>\n",
       "      <td>8</td>\n",
       "      <td>9</td>\n",
       "      <td>92</td>\n",
       "      <td>92</td>\n",
       "      <td>92</td>\n",
       "      <td>70</td>\n",
       "      <td>67</td>\n",
       "      <td>1</td>\n",
       "      <td>1</td>\n",
       "      <td>1</td>\n",
       "      <td>0</td>\n",
       "      <td>0</td>\n",
       "      <td>0</td>\n",
       "      <td>0</td>\n",
       "      <td>1299</td>\n",
       "      <td>977</td>\n",
       "      <td>275</td>\n",
       "      <td>669</td>\n",
       "      <td>0</td>\n",
       "    </tr>\n",
       "  </tbody>\n",
       "</table>\n",
       "</div>"
      ],
      "text/plain": [
       "      person  horas_distintas  ad campaign hit  brand listing  checkout  \\\n",
       "1   2e225ac4                4               14              0         5   \n",
       "5   b6ff254a                4                4              0         2   \n",
       "6   5cc1dc20                1                2              0         1   \n",
       "13  05ad382c                2                1              1         1   \n",
       "15  c7fba740                5               12              6         1   \n",
       "\n",
       "    conversion  generic listing  lead  search engine hit  searched products  \\\n",
       "1            0                2     0                 13                  0   \n",
       "5            0                3     0                  5                  3   \n",
       "6            0                0     0                  0                  0   \n",
       "13           0                4     0                  1                  2   \n",
       "15           0                6     0                  6                 12   \n",
       "\n",
       "    staticpage  viewed product  visited site  dias_distintos  \\\n",
       "1            0              15             3               3   \n",
       "5            0              21             6               3   \n",
       "6            0               2             1               1   \n",
       "13           0              12             1               1   \n",
       "15           0              45             4               3   \n",
       "\n",
       "    dias_distintos_ultima_semana  dias_distintos_de_la_semana  \\\n",
       "1                              0                            3   \n",
       "5                              0                            3   \n",
       "6                              0                            1   \n",
       "13                             1                            1   \n",
       "15                             2                            2   \n",
       "\n",
       "    dias_distintos_de_la_semana_last_month  ultima_visita  \\\n",
       "1                                        3            138   \n",
       "5                                        2            138   \n",
       "6                                        1            138   \n",
       "13                                       1            149   \n",
       "15                                       2            149   \n",
       "\n",
       "    compras_por_dia_semana  modelos_distintos_vistos  marcas_distintas  \\\n",
       "1                    38860                         1                 1   \n",
       "5                    58675                         4                 2   \n",
       "6                     5364                         1                 1   \n",
       "13                   32085                         8                 2   \n",
       "15                  128430                        13                 3   \n",
       "\n",
       "    celular_mas_visto  modelos_por_color  eventos_distintos  \\\n",
       "1                  20                  0                  6   \n",
       "5                  18                  0                  7   \n",
       "6                   3                  0                  4   \n",
       "13                  4                  2                  8   \n",
       "15                 19                  1                  8   \n",
       "\n",
       "    campaña_ultima_semana  total_visitas_usuario  visitas_ultimo_mes  \\\n",
       "1                       0                     52                  52   \n",
       "5                       0                     44                  38   \n",
       "6                       0                      6                   6   \n",
       "13                      1                     23                  23   \n",
       "15                      9                     92                  92   \n",
       "\n",
       "    visitas_ultimos_15  visitas_ultima_semana  visitas_ultimos_3  \\\n",
       "1                   29                      0                  0   \n",
       "5                   23                      0                  0   \n",
       "6                    6                      0                  0   \n",
       "13                  23                     23                 23   \n",
       "15                  92                     70                 67   \n",
       "\n",
       "    total_checkout  checkouts_ultimo_mes  checkouts_ultima_semana  \\\n",
       "1                5                     5                        0   \n",
       "5                2                     2                        0   \n",
       "6                1                     1                        0   \n",
       "13               1                     1                        1   \n",
       "15               1                     1                        1   \n",
       "\n",
       "    total_compras  compras_ultimo_mes  compras_ultima_semana  subscripciones  \\\n",
       "1               0                   0                      0               0   \n",
       "5               0                   0                      0               0   \n",
       "6               0                   0                      0               0   \n",
       "13              0                   0                      0               0   \n",
       "15              0                   0                      0               0   \n",
       "\n",
       "    precio_max  precio_mean  precio_std  precio_min  label  \n",
       "1         1275         1065         267         730      0  \n",
       "5         2469         1198         341         619      0  \n",
       "6         1275         1002         298         730      0  \n",
       "13        1799         1243         176         730      0  \n",
       "15        1299          977         275         669      0  "
      ]
     },
     "execution_count": 45,
     "metadata": {},
     "output_type": "execute_result"
    }
   ],
   "source": [
    "modelo[modelo['label']==0].head()"
   ]
  },
  {
   "cell_type": "code",
   "execution_count": 46,
   "metadata": {},
   "outputs": [
    {
     "data": {
      "text/plain": [
       "horas_distintas                               1.790825\n",
       "ad campaign hit                               1.448198\n",
       "brand listing                                 6.213203\n",
       "checkout                                      0.165994\n",
       "conversion                                    0.275212\n",
       "generic listing                               3.885751\n",
       "lead                                          0.034651\n",
       "search engine hit                             1.456420\n",
       "searched products                             2.051567\n",
       "staticpage                                    0.325931\n",
       "viewed product                               23.653092\n",
       "visited site                                  4.043978\n",
       "dias_distintos                                0.600485\n",
       "dias_distintos_ultima_semana                  0.280920\n",
       "dias_distintos_de_la_semana                   0.834582\n",
       "dias_distintos_de_la_semana_last_month        0.228019\n",
       "ultima_visita                                -6.780611\n",
       "compras_por_dia_semana                    48103.280946\n",
       "modelos_distintos_vistos                      3.446072\n",
       "marcas_distintas                              0.539530\n",
       "celular_mas_visto                             6.987127\n",
       "modelos_por_color                             0.250453\n",
       "eventos_distintos                             0.449262\n",
       "campaña_ultima_semana                         0.343258\n",
       "total_visitas_usuario                        43.553997\n",
       "visitas_ultimo_mes                           16.661781\n",
       "visitas_ultimos_15                            9.752915\n",
       "visitas_ultima_semana                        10.056608\n",
       "visitas_ultimos_3                             8.237521\n",
       "total_checkout                                0.165994\n",
       "checkouts_ultimo_mes                         -0.411831\n",
       "checkouts_ultima_semana                      -0.147231\n",
       "total_compras                                 0.275212\n",
       "compras_ultimo_mes                            0.119354\n",
       "compras_ultima_semana                         0.080599\n",
       "subscripciones                                0.034651\n",
       "precio_max                                  106.034761\n",
       "precio_mean                                 -16.733915\n",
       "precio_std                                    0.529057\n",
       "precio_min                                  -92.465182\n",
       "label                                         1.000000\n",
       "dtype: float64"
      ]
     },
     "execution_count": 46,
     "metadata": {},
     "output_type": "execute_result"
    }
   ],
   "source": [
    "modelo[modelo['label']==1].mean()-modelo[modelo['label']==0].mean()"
   ]
  },
  {
   "cell_type": "code",
   "execution_count": 47,
   "metadata": {},
   "outputs": [
    {
     "data": {
      "text/plain": [
       "Text(0.5,1,'Ultima visita de usuarios que compraron en los proximos 15 dias')"
      ]
     },
     "execution_count": 47,
     "metadata": {},
     "output_type": "execute_result"
    },
    {
     "data": {
      "image/png": "[encoded data removed]",
      "text/plain": [
       "<Figure size 1728x864 with 1 Axes>"
      ]
     },
     "metadata": {},
     "output_type": "display_data"
    }
   ],
   "source": [
    "modelo[modelo['label']==1]['ultima_visita'].plot(kind='hist',figsize=(24,12),bins=150)\n",
    "plt.title('Ultima visita de usuarios que compraron en los proximos 15 dias')"
   ]
  },
  {
   "cell_type": "code",
   "execution_count": 48,
   "metadata": {},
   "outputs": [
    {
     "data": {
      "text/plain": [
       "Text(0.5,1,'Ultima visita de usuarios que no compraron en los proximos 15 dias')"
      ]
     },
     "execution_count": 48,
     "metadata": {},
     "output_type": "execute_result"
    },
    {
     "data": {
      "image/png": "[encoded data removed]",
      "text/plain": [
       "<Figure size 1728x864 with 1 Axes>"
      ]
     },
     "metadata": {},
     "output_type": "display_data"
    }
   ],
   "source": [
    "modelo[modelo['label']==0]['ultima_visita'].plot(kind='hist',figsize=(24,12),bins=150)\n",
    "plt.title('Ultima visita de usuarios que no compraron en los proximos 15 dias')"
   ]
  },
  {
   "cell_type": "markdown",
   "metadata": {},
   "source": [
    "### Usuarios cuya ultima visita es antes de mayo solo habian entrado una vez"
   ]
  },
  {
   "cell_type": "code",
   "execution_count": 49,
   "metadata": {},
   "outputs": [
    {
     "data": {
      "text/plain": [
       "1"
      ]
     },
     "execution_count": 49,
     "metadata": {},
     "output_type": "execute_result"
    }
   ],
   "source": [
    "modelo.loc[(modelo['ultima_visita']<120)&(modelo['label']==1)]['dias_distintos'].nunique() "
   ]
  },
  {
   "cell_type": "code",
   "execution_count": 50,
   "metadata": {},
   "outputs": [
    {
     "data": {
      "text/plain": [
       "1"
      ]
     },
     "execution_count": 50,
     "metadata": {},
     "output_type": "execute_result"
    }
   ],
   "source": [
    "modelo.loc[(modelo['ultima_visita']<120)&(modelo['label']==0)]['dias_distintos'].nunique() "
   ]
  },
  {
   "cell_type": "markdown",
   "metadata": {},
   "source": [
    "### Cantidad de visitas por usuario"
   ]
  },
  {
   "cell_type": "code",
   "execution_count": 51,
   "metadata": {},
   "outputs": [
    {
     "data": {
      "image/png": "[encoded data removed]",
      "text/plain": [
       "<Figure size 1728x864 with 1 Axes>"
      ]
     },
     "metadata": {},
     "output_type": "display_data"
    }
   ],
   "source": [
    "modelo[modelo['label']==1]['total_visitas_usuario'].plot(kind='hist',figsize=(24,12),bins=150)\n",
    "plt.title('Visitas de usuarios que van a comprar')\n",
    "plt.yscale('log', nonposy='clip')"
   ]
  },
  {
   "cell_type": "code",
   "execution_count": 52,
   "metadata": {},
   "outputs": [
    {
     "data": {
      "image/png": "[encoded data removed]",
      "text/plain": [
       "<Figure size 1728x864 with 1 Axes>"
      ]
     },
     "metadata": {},
     "output_type": "display_data"
    }
   ],
   "source": [
    "modelo[modelo['label']==0]['total_visitas_usuario'].plot(kind='hist',figsize=(24,12),bins=150)\n",
    "plt.title('Visitas de usuarios no que van a comprar')\n",
    "plt.yscale('log', nonposy='clip')"
   ]
  },
  {
   "cell_type": "markdown",
   "metadata": {},
   "source": [
    "### Cantidad de visitas no decide si va a comprar o no"
   ]
  },
  {
   "cell_type": "code",
   "execution_count": 53,
   "metadata": {},
   "outputs": [
    {
     "data": {
      "text/html": [
       "<div>\n",
       "<style scoped>\n",
       "    .dataframe tbody tr th:only-of-type {\n",
       "        vertical-align: middle;\n",
       "    }\n",
       "\n",
       "    .dataframe tbody tr th {\n",
       "        vertical-align: top;\n",
       "    }\n",
       "\n",
       "    .dataframe thead th {\n",
       "        text-align: right;\n",
       "    }\n",
       "</style>\n",
       "<table border=\"1\" class=\"dataframe\">\n",
       "  <thead>\n",
       "    <tr style=\"text-align: right;\">\n",
       "      <th></th>\n",
       "      <th>100</th>\n",
       "      <th>300</th>\n",
       "      <th>500</th>\n",
       "      <th>700</th>\n",
       "      <th>900</th>\n",
       "      <th>1100</th>\n",
       "      <th>1300</th>\n",
       "      <th>1500</th>\n",
       "      <th>1700</th>\n",
       "      <th>1900</th>\n",
       "      <th>2100</th>\n",
       "      <th>2300</th>\n",
       "      <th>2500</th>\n",
       "      <th>2700</th>\n",
       "      <th>2900</th>\n",
       "      <th>3100</th>\n",
       "      <th>3300</th>\n",
       "    </tr>\n",
       "  </thead>\n",
       "  <tbody>\n",
       "    <tr>\n",
       "      <th>0</th>\n",
       "      <td>2635</td>\n",
       "      <td>545</td>\n",
       "      <td>208</td>\n",
       "      <td>106</td>\n",
       "      <td>59</td>\n",
       "      <td>43</td>\n",
       "      <td>28</td>\n",
       "      <td>21</td>\n",
       "      <td>13</td>\n",
       "      <td>8</td>\n",
       "      <td>5</td>\n",
       "      <td>4</td>\n",
       "      <td>3</td>\n",
       "      <td>3</td>\n",
       "      <td>1</td>\n",
       "      <td>1</td>\n",
       "      <td>1</td>\n",
       "    </tr>\n",
       "    <tr>\n",
       "      <th>1</th>\n",
       "      <td>280</td>\n",
       "      <td>78</td>\n",
       "      <td>33</td>\n",
       "      <td>16</td>\n",
       "      <td>6</td>\n",
       "      <td>4</td>\n",
       "      <td>2</td>\n",
       "      <td>1</td>\n",
       "      <td>0</td>\n",
       "      <td>0</td>\n",
       "      <td>0</td>\n",
       "      <td>0</td>\n",
       "      <td>0</td>\n",
       "      <td>0</td>\n",
       "      <td>0</td>\n",
       "      <td>0</td>\n",
       "      <td>0</td>\n",
       "    </tr>\n",
       "  </tbody>\n",
       "</table>\n",
       "</div>"
      ],
      "text/plain": [
       "   100   300   500   700   900   1100  1300  1500  1700  1900  2100  2300  \\\n",
       "0  2635   545   208   106    59    43    28    21    13     8     5     4   \n",
       "1   280    78    33    16     6     4     2     1     0     0     0     0   \n",
       "\n",
       "   2500  2700  2900  3100  3300  \n",
       "0     3     3     1     1     1  \n",
       "1     0     0     0     0     0  "
      ]
     },
     "execution_count": 53,
     "metadata": {},
     "output_type": "execute_result"
    }
   ],
   "source": [
    "visitas={}\n",
    "for i in range(100,3500,200):\n",
    "    visitas[i]=[len(modelo.loc[(modelo['label']==0)&(modelo['total_visitas_usuario']>i)]),len(modelo.loc[(modelo['label']==1)&(modelo['total_visitas_usuario']>i)])]\n",
    "visitas=pd.DataFrame(visitas)\n",
    "visitas"
   ]
  },
  {
   "cell_type": "markdown",
   "metadata": {},
   "source": [
    "### Cantidad de usuarios que visitaron por ultima vez la pagina antes de mayo, y realizaron una compra en los proximos 15 dias"
   ]
  },
  {
   "cell_type": "code",
   "execution_count": 54,
   "metadata": {},
   "outputs": [
    {
     "data": {
      "text/plain": [
       "153"
      ]
     },
     "execution_count": 54,
     "metadata": {},
     "output_type": "execute_result"
    }
   ],
   "source": [
    "len(modelo.loc[(modelo['ultima_visita']<120)&(modelo['label']==1)]) "
   ]
  },
  {
   "cell_type": "code",
   "execution_count": 55,
   "metadata": {},
   "outputs": [
    {
     "data": {
      "text/plain": [
       "673"
      ]
     },
     "execution_count": 55,
     "metadata": {},
     "output_type": "execute_result"
    }
   ],
   "source": [
    "len(modelo.loc[(modelo['ultima_visita']<120)&(modelo['label']==0)]) "
   ]
  },
  {
   "cell_type": "markdown",
   "metadata": {},
   "source": [
    "### Cantidad de usuarios que visitaron por ultima vez la pagina en de mayo, y realizaron una compra en los proximos 15 dias"
   ]
  },
  {
   "cell_type": "code",
   "execution_count": 56,
   "metadata": {},
   "outputs": [
    {
     "data": {
      "text/plain": [
       "827"
      ]
     },
     "execution_count": 56,
     "metadata": {},
     "output_type": "execute_result"
    }
   ],
   "source": [
    "len(modelo.loc[(modelo['ultima_visita']>119)&(modelo['label']==1)]) "
   ]
  },
  {
   "cell_type": "code",
   "execution_count": 57,
   "metadata": {},
   "outputs": [
    {
     "data": {
      "text/plain": [
       "17761"
      ]
     },
     "execution_count": 57,
     "metadata": {},
     "output_type": "execute_result"
    }
   ],
   "source": [
    "len(modelo.loc[(modelo['ultima_visita']>119)&(modelo['label']==0)]) "
   ]
  },
  {
   "cell_type": "markdown",
   "metadata": {},
   "source": [
    "### Usuarios que van a comprar tienen mayor promedio de modelos vistos"
   ]
  },
  {
   "cell_type": "code",
   "execution_count": 58,
   "metadata": {},
   "outputs": [
    {
     "data": {
      "text/plain": [
       "(8.989795918367347, 5.543723554301834)"
      ]
     },
     "execution_count": 58,
     "metadata": {},
     "output_type": "execute_result"
    }
   ],
   "source": [
    "modelo[modelo['label']==1]['modelos_distintos_vistos'].mean(),modelo[modelo['label']==0]['modelos_distintos_vistos'].mean()"
   ]
  },
  {
   "cell_type": "markdown",
   "metadata": {},
   "source": [
    "### Promedio de usuarios que van a comprar es mayor si ingresaron a traves de una campaña "
   ]
  },
  {
   "cell_type": "code",
   "execution_count": 59,
   "metadata": {},
   "outputs": [
    {
     "data": {
      "text/plain": [
       "(1.8622448979591837, 1.5189866550938482)"
      ]
     },
     "execution_count": 59,
     "metadata": {},
     "output_type": "execute_result"
    }
   ],
   "source": [
    "modelo[modelo['label']==1]['campaña_ultima_semana'].mean(),modelo[modelo['label']==0]['campaña_ultima_semana'].mean()"
   ]
  },
  {
   "cell_type": "markdown",
   "metadata": {},
   "source": [
    "### Un 0.44% de las personas que van a comprar entraron a traves de una campaña"
   ]
  },
  {
   "cell_type": "code",
   "execution_count": 60,
   "metadata": {},
   "outputs": [
    {
     "data": {
      "text/plain": [
       "(432, 8076)"
      ]
     },
     "execution_count": 60,
     "metadata": {},
     "output_type": "execute_result"
    }
   ],
   "source": [
    "len(modelo.loc[(modelo['label']==1)&(modelo['campaña_ultima_semana']!=0)]),len(modelo.loc[(modelo['label']==0)&(modelo['campaña_ultima_semana']!=0)] )"
   ]
  },
  {
   "cell_type": "code",
   "execution_count": 61,
   "metadata": {},
   "outputs": [
    {
     "data": {
      "text/plain": [
       "(44.08163265306123, 43.81035043940545)"
      ]
     },
     "execution_count": 61,
     "metadata": {},
     "output_type": "execute_result"
    }
   ],
   "source": [
    "100*len(modelo.loc[(modelo['label']==1)&(modelo['campaña_ultima_semana']!=0)]) /len(modelo[modelo['label']==1]),100*len(modelo.loc[(modelo['label']==0)&(modelo['campaña_ultima_semana']!=0)]) /len(modelo[modelo['label']==0])"
   ]
  },
  {
   "cell_type": "markdown",
   "metadata": {},
   "source": [
    "De las 432, 90 (20%) ya habian comprado. O mejor dicho, un 80% que no habia comprado, a traves de una campaña despues terminó comprando."
   ]
  },
  {
   "cell_type": "code",
   "execution_count": 62,
   "metadata": {},
   "outputs": [
    {
     "data": {
      "text/plain": [
       "90"
      ]
     },
     "execution_count": 62,
     "metadata": {},
     "output_type": "execute_result"
    }
   ],
   "source": [
    "len(modelo.loc[(modelo['label']==1)&(modelo['campaña_ultima_semana']!=0)&(modelo['total_compras']!=0)])"
   ]
  },
  {
   "cell_type": "markdown",
   "metadata": {},
   "source": [
    "### Un 20% de usuarios que van a comprar, ya lo habian hecho"
   ]
  },
  {
   "cell_type": "code",
   "execution_count": 63,
   "metadata": {},
   "outputs": [
    {
     "data": {
      "text/plain": [
       "(197, 20.102040816326532)"
      ]
     },
     "execution_count": 63,
     "metadata": {},
     "output_type": "execute_result"
    }
   ],
   "source": [
    "len(modelo.loc[(modelo['label']==1)&(modelo['total_compras']>0)]), 100*len(modelo.loc[(modelo['label']==1)&(modelo['total_compras']>0)])/len(modelo[modelo['label']==1])"
   ]
  },
  {
   "cell_type": "code",
   "execution_count": 64,
   "metadata": {},
   "outputs": [
    {
     "data": {
      "text/plain": [
       "Text(0.5,1,'Frecuencia de compras anteriores de usuarios que van a comprar')"
      ]
     },
     "execution_count": 64,
     "metadata": {},
     "output_type": "execute_result"
    },
    {
     "data": {
      "image/png": "[encoded data removed]",
      "text/plain": [
       "<Figure size 1728x864 with 1 Axes>"
      ]
     },
     "metadata": {},
     "output_type": "display_data"
    }
   ],
   "source": [
    "modelo.loc[(modelo['label']==1)&(modelo['total_compras']>0)]['total_compras'].plot(kind='hist',figsize=(24,12),bins=30)\n",
    "plt.title('Frecuencia de compras anteriores de usuarios que van a comprar')"
   ]
  },
  {
   "cell_type": "markdown",
   "metadata": {},
   "source": [
    "28 (2.8%) usuarios ya habian comprado antes de mayo. "
   ]
  },
  {
   "cell_type": "code",
   "execution_count": 65,
   "metadata": {},
   "outputs": [
    {
     "data": {
      "text/plain": [
       "28"
      ]
     },
     "execution_count": 65,
     "metadata": {},
     "output_type": "execute_result"
    }
   ],
   "source": [
    "len(modelo.loc[(modelo['label']==1)&(modelo['total_compras']>0)&(modelo['ultima_visita']<120)])"
   ]
  },
  {
   "cell_type": "markdown",
   "metadata": {},
   "source": [
    "Pero estos usuarios tenian una media de 129 visitas a la pagina"
   ]
  },
  {
   "cell_type": "code",
   "execution_count": 66,
   "metadata": {},
   "outputs": [
    {
     "data": {
      "text/plain": [
       "129.46428571428572"
      ]
     },
     "execution_count": 66,
     "metadata": {},
     "output_type": "execute_result"
    }
   ],
   "source": [
    "modelo.loc[(modelo['label']==1)&(modelo['total_compras']>0)&(modelo['ultima_visita']<120)]['total_visitas_usuario'].mean()"
   ]
  },
  {
   "cell_type": "markdown",
   "metadata": {},
   "source": [
    "De los otros 169, su media de visitas a la pagina es de 240! Esto demuestra una tendencia a comprar."
   ]
  },
  {
   "cell_type": "code",
   "execution_count": 67,
   "metadata": {},
   "outputs": [
    {
     "data": {
      "text/plain": [
       "240.92857142857142"
      ]
     },
     "execution_count": 67,
     "metadata": {},
     "output_type": "execute_result"
    }
   ],
   "source": [
    "modelo.loc[(modelo['label']==1)&(modelo['total_compras']>0)&(modelo['ultima_visita']>120)]['total_visitas_usuario'].mean()"
   ]
  },
  {
   "cell_type": "markdown",
   "metadata": {},
   "source": [
    "Y su media de dias distintos es mayor a 6."
   ]
  },
  {
   "cell_type": "code",
   "execution_count": 68,
   "metadata": {},
   "outputs": [
    {
     "data": {
      "text/plain": [
       "6.232142857142857"
      ]
     },
     "execution_count": 68,
     "metadata": {},
     "output_type": "execute_result"
    }
   ],
   "source": [
    "modelo.loc[(modelo['label']==1)&(modelo['total_compras']>0)&(modelo['ultima_visita']>120)]['dias_distintos'].mean()"
   ]
  },
  {
   "cell_type": "markdown",
   "metadata": {},
   "source": [
    "141 es la media de aquellos que ya habian comprado, pero no lo hicieron luego."
   ]
  },
  {
   "cell_type": "code",
   "execution_count": 69,
   "metadata": {},
   "outputs": [
    {
     "data": {
      "text/plain": [
       "141.05061983471074"
      ]
     },
     "execution_count": 69,
     "metadata": {},
     "output_type": "execute_result"
    }
   ],
   "source": [
    "modelo.loc[(modelo['label']==0)&(modelo['total_compras']>0)&(modelo['ultima_visita']>120)]['total_visitas_usuario'].mean()"
   ]
  },
  {
   "cell_type": "markdown",
   "metadata": {},
   "source": [
    "Y para estos, la media de dias distintos es 5."
   ]
  },
  {
   "cell_type": "code",
   "execution_count": 70,
   "metadata": {},
   "outputs": [
    {
     "data": {
      "text/plain": [
       "5.037706611570248"
      ]
     },
     "execution_count": 70,
     "metadata": {},
     "output_type": "execute_result"
    }
   ],
   "source": [
    "modelo.loc[(modelo['label']==0)&(modelo['total_compras']>0)&(modelo['ultima_visita']>120)]['dias_distintos'].mean()"
   ]
  },
  {
   "cell_type": "markdown",
   "metadata": {},
   "source": [
    "## MACHINE LEARNING"
   ]
  },
  {
   "cell_type": "code",
   "execution_count": 71,
   "metadata": {},
   "outputs": [],
   "source": [
    "##Ahora empieza ML\n",
    "\n",
    "from sklearn.model_selection import train_test_split,GridSearchCV,StratifiedKFold,RandomizedSearchCV\n",
    "from sklearn import metrics\n",
    "from sklearn.metrics import accuracy_score, f1_score,precision_score,recall_score,roc_auc_score"
   ]
  },
  {
   "cell_type": "markdown",
   "metadata": {},
   "source": [
    "## Split"
   ]
  },
  {
   "cell_type": "code",
   "execution_count": 72,
   "metadata": {},
   "outputs": [],
   "source": [
    "X = modelo.drop(['person','label'], axis=1)\n",
    "y = modelo['label']"
   ]
  },
  {
   "cell_type": "markdown",
   "metadata": {},
   "source": [
    "## K-means"
   ]
  },
  {
   "cell_type": "code",
   "execution_count": 73,
   "metadata": {},
   "outputs": [],
   "source": [
    "from sklearn.cluster import KMeans"
   ]
  },
  {
   "cell_type": "code",
   "execution_count": 74,
   "metadata": {},
   "outputs": [],
   "source": [
    "kmeans_2 = KMeans(n_clusters=2, init='k-means++', n_jobs=8).fit(X)\n",
    "X['kmeans_2'] = kmeans_2.labels_"
   ]
  },
  {
   "cell_type": "code",
   "execution_count": 75,
   "metadata": {},
   "outputs": [],
   "source": [
    "kmeans_3 = KMeans(n_clusters=3, init='k-means++', n_jobs=8).fit(X)\n",
    "X['kmeans_3'] = kmeans_3.labels_"
   ]
  },
  {
   "cell_type": "code",
   "execution_count": 76,
   "metadata": {},
   "outputs": [],
   "source": [
    "kmeans_4 = KMeans(n_clusters=4, init='k-means++', n_jobs=8).fit(X)\n",
    "X['kmeans_4'] = kmeans_4.labels_"
   ]
  },
  {
   "cell_type": "code",
   "execution_count": 77,
   "metadata": {},
   "outputs": [],
   "source": [
    "kmeans_5 = KMeans(n_clusters=5, init='k-means++', n_jobs=8).fit(X)\n",
    "X['kmeans_5'] = kmeans_5.labels_"
   ]
  },
  {
   "cell_type": "code",
   "execution_count": 78,
   "metadata": {},
   "outputs": [],
   "source": [
    "kmeans_50 = KMeans(n_clusters=50, init='k-means++', n_jobs=8).fit(X)\n",
    "X['kmeans_50'] = kmeans_50.labels_"
   ]
  },
  {
   "cell_type": "code",
   "execution_count": 79,
   "metadata": {},
   "outputs": [],
   "source": [
    "kmeans_100 = KMeans(n_clusters=100, init='k-means++', n_jobs=8).fit(X)\n",
    "X['kmeans_100'] = kmeans_100.labels_"
   ]
  },
  {
   "cell_type": "markdown",
   "metadata": {},
   "source": [
    "## HDBScan"
   ]
  },
  {
   "cell_type": "code",
   "execution_count": 80,
   "metadata": {},
   "outputs": [
    {
     "ename": "ModuleNotFoundError",
     "evalue": "No module named 'hdbscan'",
     "output_type": "error",
     "traceback": [
      "\u001b[0;31m---------------------------------------------------------------------------\u001b[0m",
      "\u001b[0;31mModuleNotFoundError\u001b[0m                       Traceback (most recent call last)",
      "\u001b[0;32m<ipython-input-80-edda3dd2e6f5>\u001b[0m in \u001b[0;36m<module>\u001b[0;34m()\u001b[0m\n\u001b[0;32m----> 1\u001b[0;31m \u001b[0;32mimport\u001b[0m \u001b[0mhdbscan\u001b[0m\u001b[0;34m\u001b[0m\u001b[0m\n\u001b[0m\u001b[1;32m      2\u001b[0m \u001b[0;34m\u001b[0m\u001b[0m\n\u001b[1;32m      3\u001b[0m \u001b[0mclusterer\u001b[0m \u001b[0;34m=\u001b[0m \u001b[0mhdbscan\u001b[0m\u001b[0;34m.\u001b[0m\u001b[0mHDBSCAN\u001b[0m\u001b[0;34m(\u001b[0m\u001b[0mmin_cluster_size\u001b[0m\u001b[0;34m=\u001b[0m\u001b[0;36m100\u001b[0m\u001b[0;34m)\u001b[0m\u001b[0;34m\u001b[0m\u001b[0m\n\u001b[1;32m      4\u001b[0m \u001b[0mcluster_labels\u001b[0m \u001b[0;34m=\u001b[0m \u001b[0mclusterer\u001b[0m\u001b[0;34m.\u001b[0m\u001b[0mfit_predict\u001b[0m\u001b[0;34m(\u001b[0m\u001b[0mX\u001b[0m\u001b[0;34m)\u001b[0m\u001b[0;34m\u001b[0m\u001b[0m\n\u001b[1;32m      5\u001b[0m \u001b[0mX\u001b[0m\u001b[0;34m[\u001b[0m\u001b[0;34m'HDBScan'\u001b[0m\u001b[0;34m]\u001b[0m \u001b[0;34m=\u001b[0m \u001b[0mcluster_labels\u001b[0m\u001b[0;34m\u001b[0m\u001b[0m\n",
      "\u001b[0;31mModuleNotFoundError\u001b[0m: No module named 'hdbscan'"
     ]
    }
   ],
   "source": [
    "import hdbscan\n",
    "\n",
    "clusterer = hdbscan.HDBSCAN(min_cluster_size=100)\n",
    "cluster_labels = clusterer.fit_predict(X)\n",
    "X['HDBScan'] = cluster_labels"
   ]
  },
  {
   "cell_type": "markdown",
   "metadata": {},
   "source": [
    "## Feature importance con random forest"
   ]
  },
  {
   "cell_type": "code",
   "execution_count": null,
   "metadata": {},
   "outputs": [],
   "source": [
    "from sklearn.datasets import make_classification\n",
    "from sklearn.ensemble import ExtraTreesClassifier\n",
    "forest = ExtraTreesClassifier(n_estimators=500,\n",
    "                              random_state=0,\n",
    "                             class_weight ={1:8})\n",
    "forest.fit(X, y)\n",
    "def feature_importance(clasificador):\n",
    "    importances = clasificador.feature_importances_\n",
    "    std = np.std([tree.feature_importances_ for tree in clasificador.estimators_],\n",
    "                 axis=0)\n",
    "    indices = np.argsort(importances)[::-1]\n",
    "    print(\"Feature ranking:\")\n",
    "    for f in range(X.shape[1]):\n",
    "        print(\"%d. feature %d (%f)\" % (f + 1, indices[f], importances[indices[f]]))\n",
    "    plt.figure(figsize=(24,12))\n",
    "    plt.title(\"Feature importances\")\n",
    "    plt.bar(range(X.shape[1]), importances[indices],\n",
    "           color=\"r\", yerr=std[indices], align=\"center\")\n",
    "    plt.xticks(range(X.shape[1]), indices)\n",
    "    plt.xlim([-1, X.shape[1]])\n",
    "    plt.show()\n",
    "feature_importance(forest)\n"
   ]
  },
  {
   "cell_type": "markdown",
   "metadata": {},
   "source": [
    "## Select k best features"
   ]
  },
  {
   "cell_type": "code",
   "execution_count": null,
   "metadata": {},
   "outputs": [],
   "source": [
    "from sklearn.feature_selection import SelectKBest\n",
    "model= SelectKBest(k='all').fit(X,y)\n",
    "columnas=list(X.columns[model.get_support()])\n",
    "columnas"
   ]
  },
  {
   "cell_type": "code",
   "execution_count": null,
   "metadata": {},
   "outputs": [],
   "source": [
    "model=model.transform(X)"
   ]
  },
  {
   "cell_type": "code",
   "execution_count": null,
   "metadata": {},
   "outputs": [],
   "source": [
    "X = pd.DataFrame.from_records(model)\n",
    "X.columns=columnas"
   ]
  },
  {
   "cell_type": "code",
   "execution_count": null,
   "metadata": {},
   "outputs": [],
   "source": [
    "import xgboost as xgb\n",
    "data_dmatrix = xgb.DMatrix(data=X,label=y)"
   ]
  },
  {
   "cell_type": "code",
   "execution_count": null,
   "metadata": {},
   "outputs": [],
   "source": [
    "X_train, X_test, y_train, y_test = train_test_split(X, y,test_size=0.2) "
   ]
  },
  {
   "cell_type": "code",
   "execution_count": null,
   "metadata": {},
   "outputs": [],
   "source": [
    "len(X_train),len(X_test),len(y_train),len(y_test)"
   ]
  },
  {
   "cell_type": "code",
   "execution_count": null,
   "metadata": {},
   "outputs": [],
   "source": [
    "X_train.head()"
   ]
  },
  {
   "cell_type": "code",
   "execution_count": null,
   "metadata": {},
   "outputs": [],
   "source": [
    "y_train.head()"
   ]
  },
  {
   "cell_type": "markdown",
   "metadata": {},
   "source": [
    "### Graficador del ROC AUC "
   ]
  },
  {
   "cell_type": "code",
   "execution_count": null,
   "metadata": {},
   "outputs": [],
   "source": [
    "from sklearn.metrics import roc_curve, auc\n",
    "def graficar_roc(clasificador):\n",
    "    fpr = dict()\n",
    "    tpr = dict()\n",
    "    fpr, tpr, _ = roc_curve(y_test, clasificador.predict_proba(X_test)[:,1])\n",
    "    roc_auc = dict()\n",
    "    roc_auc = auc(fpr, tpr)\n",
    "\n",
    "    # make the plot\n",
    "    plt.figure(figsize=(10,10))\n",
    "    plt.plot([0, 1], [0, 1], 'k--')\n",
    "    plt.xlim([-0.05, 1.0])\n",
    "    plt.ylim([0.0, 1.05])\n",
    "    plt.xlabel('False Positive Rate')\n",
    "    plt.ylabel('True Positive Rate')\n",
    "    plt.grid(True)\n",
    "    plt.plot(fpr, tpr, label='AUC = {0}'.format(roc_auc), linewidth =3)        \n",
    "    plt.legend(loc=\"lower right\", shadow=True, fancybox =True) \n",
    "    plt.show()"
   ]
  },
  {
   "cell_type": "markdown",
   "metadata": {},
   "source": [
    "## Algoritmos de clasificación"
   ]
  },
  {
   "cell_type": "markdown",
   "metadata": {},
   "source": [
    "## XGBOOST"
   ]
  },
  {
   "cell_type": "code",
   "execution_count": null,
   "metadata": {},
   "outputs": [],
   "source": [
    "my_classifier1 = xgb.XGBClassifier(objective ='binary:logistic',max_depth =1,learning_rate = 0.02, n_estimators = 500,scale_pos_weight=7)\n",
    "my_classifier1.fit(X_train,y_train)\n",
    "predictions=my_classifier1.predict(X_test)\n",
    "metrics.confusion_matrix(y_test, predictions)"
   ]
  },
  {
   "cell_type": "code",
   "execution_count": null,
   "metadata": {},
   "outputs": [],
   "source": [
    "accuracy_score(y_test, predictions),roc_auc_score(y_test,  my_classifier1.predict_proba(X_test)[:,1])"
   ]
  },
  {
   "cell_type": "code",
   "execution_count": null,
   "metadata": {},
   "outputs": [],
   "source": [
    "from xgboost import plot_importance\n",
    "ax = plot_importance(my_classifier1,height=0.5)\n",
    "fig = ax.figure\n",
    "fig.set_size_inches(20,10)\n",
    "plt.show()"
   ]
  },
  {
   "cell_type": "code",
   "execution_count": null,
   "metadata": {},
   "outputs": [],
   "source": [
    "ax = plot_importance(my_classifier1,height=0.5,importance_type='gain')\n",
    "fig = ax.figure\n",
    "fig.set_size_inches(20,10)\n",
    "plt.show()"
   ]
  },
  {
   "cell_type": "code",
   "execution_count": null,
   "metadata": {},
   "outputs": [],
   "source": [
    "ax = plot_importance(my_classifier1,height=0.5,importance_type='cover')\n",
    "fig = ax.figure\n",
    "fig.set_size_inches(20,10)\n",
    "plt.show()"
   ]
  },
  {
   "cell_type": "code",
   "execution_count": null,
   "metadata": {},
   "outputs": [],
   "source": [
    "graficar_roc(my_classifier1)"
   ]
  },
  {
   "cell_type": "markdown",
   "metadata": {},
   "source": [
    "## LightGBM"
   ]
  },
  {
   "cell_type": "code",
   "execution_count": null,
   "metadata": {},
   "outputs": [],
   "source": [
    "import lightgbm as lgb\n",
    "my_classifier2 = lgb.LGBMClassifier(   \n",
    "        objective='binary',\n",
    "        boosting='goss',\n",
    "        scale_pos_weight=8,\n",
    "        n_estimators=13000,\n",
    "        learning_rate=0.001,\n",
    "        max_depth=1, \n",
    "        num_threads =6,        \n",
    "    )\n",
    "\n",
    "my_classifier2.fit(X_train,y_train)\n",
    "predictions=my_classifier2.predict(X_test)\n",
    "metrics.confusion_matrix(y_test, predictions)"
   ]
  },
  {
   "cell_type": "code",
   "execution_count": null,
   "metadata": {},
   "outputs": [],
   "source": [
    "accuracy_score(y_test, predictions),roc_auc_score(y_test,  my_classifier2.predict_proba(X_test)[:,1])"
   ]
  },
  {
   "cell_type": "code",
   "execution_count": null,
   "metadata": {},
   "outputs": [],
   "source": [
    "graficar_roc(my_classifier2)"
   ]
  },
  {
   "cell_type": "markdown",
   "metadata": {},
   "source": [
    "## RANDOM FOREST"
   ]
  },
  {
   "cell_type": "code",
   "execution_count": null,
   "metadata": {},
   "outputs": [],
   "source": [
    "from sklearn.ensemble import RandomForestClassifier #a mayor depth, mas precisos los 0, menos los 1,class weight cambia mucho\n",
    "my_classifier3 = RandomForestClassifier(criterion= 'entropy',max_depth= 5,n_estimators=1000, max_features= 'auto', class_weight={1:9} ,n_jobs=-1)\n",
    "my_classifier3.fit(X_train,y_train)\n",
    "predictions=my_classifier3.predict(X_test)\n",
    "metrics.confusion_matrix(y_test, predictions)"
   ]
  },
  {
   "cell_type": "code",
   "execution_count": null,
   "metadata": {},
   "outputs": [],
   "source": [
    "accuracy_score(y_test, predictions),roc_auc_score(y_test,  my_classifier3.predict_proba(X_test)[:,1])"
   ]
  },
  {
   "cell_type": "code",
   "execution_count": null,
   "metadata": {},
   "outputs": [],
   "source": [
    "graficar_roc(my_classifier3)"
   ]
  },
  {
   "cell_type": "code",
   "execution_count": null,
   "metadata": {},
   "outputs": [],
   "source": [
    "feature_importance(my_classifier3)"
   ]
  },
  {
   "cell_type": "markdown",
   "metadata": {},
   "source": [
    "## Cat Boost"
   ]
  },
  {
   "cell_type": "code",
   "execution_count": null,
   "metadata": {},
   "outputs": [],
   "source": [
    "from catboost import CatBoostClassifier\n",
    "my_classifier4=CatBoostClassifier(class_weights=[1, 8] ,logging_level='Silent',thread_count=6,boosting_type='Ordered',loss_function='Logloss',depth=3,leaf_estimation_method ='Newton',\n",
    "                                 l2_leaf_reg = 23,od_pval=0.0000001)\n",
    "my_classifier4.fit(X_train,y_train)\n",
    "predictions=my_classifier4.predict(X_test)\n",
    "metrics.confusion_matrix(y_test, predictions)"
   ]
  },
  {
   "cell_type": "code",
   "execution_count": null,
   "metadata": {},
   "outputs": [],
   "source": [
    "accuracy_score(y_test, predictions),roc_auc_score(y_test,  my_classifier4.predict_proba(X_test)[:,1])"
   ]
  },
  {
   "cell_type": "markdown",
   "metadata": {},
   "source": [
    "y_pred=0.0\n",
    "for i in range(10):\n",
    "    clf=CatBoostClassifier(class_weights=[1, 8] ,logging_level='Silent',thread_count=6,boosting_type='Ordered',loss_function='Logloss',depth=3,leaf_estimation_method ='Newton',\n",
    "                                 l2_leaf_reg = 23,od_pval=0.0000001,random_seed=i+200)\n",
    "    fit_model = clf.fit(X_train,y_train)\n",
    "    y_pred +=  fit_model.predict_proba(X_test)[:,1]\n",
    "y_pred /= 10"
   ]
  },
  {
   "cell_type": "code",
   "execution_count": null,
   "metadata": {},
   "outputs": [],
   "source": [
    "graficar_roc(my_classifier4)"
   ]
  },
  {
   "cell_type": "markdown",
   "metadata": {},
   "source": [
    "## Voting classifier"
   ]
  },
  {
   "cell_type": "code",
   "execution_count": null,
   "metadata": {},
   "outputs": [],
   "source": [
    "from sklearn.ensemble import VotingClassifier\n",
    "vclf = VotingClassifier(estimators=[  ('XGB', my_classifier1), ('GBM', my_classifier2),('RF', my_classifier3),('CB', my_classifier4)], voting='soft', n_jobs =-1)\n",
    "vclf = vclf.fit(X_train, y_train)\n",
    "predictions = vclf.predict(X_test)\n",
    "metrics.confusion_matrix(y_test, predictions)"
   ]
  },
  {
   "cell_type": "code",
   "execution_count": null,
   "metadata": {},
   "outputs": [],
   "source": [
    "accuracy_score(y_test, predictions),roc_auc_score(y_test,  vclf.predict_proba(X_test)[:,1])"
   ]
  },
  {
   "cell_type": "code",
   "execution_count": null,
   "metadata": {},
   "outputs": [],
   "source": [
    "graficar_roc(vclf)"
   ]
  },
  {
   "cell_type": "markdown",
   "metadata": {},
   "source": [
    "## KAGGLE PREDICTIONS"
   ]
  },
  {
   "cell_type": "code",
   "execution_count": null,
   "metadata": {},
   "outputs": [],
   "source": [
    "kaggle= pd.read_csv('data/kaggle.csv',low_memory=False)\n",
    "kaggle=pd.merge(kaggle, a_predecir, on='person', how='inner')"
   ]
  },
  {
   "cell_type": "code",
   "execution_count": null,
   "metadata": {},
   "outputs": [],
   "source": [
    "kaggle2=kaggle.loc[:,columnas]\n",
    "kaggle2 = kaggle2.fillna(0)\n",
    "kaggle2.head()"
   ]
  },
  {
   "cell_type": "code",
   "execution_count": null,
   "metadata": {},
   "outputs": [],
   "source": [
    "kmeans_2 = KMeans(n_clusters=2, init='k-means++', n_jobs=8).fit(kaggle2)\n",
    "kaggle2['kmeans_2'] = kmeans_2.labels_\n",
    "kmeans_3 = KMeans(n_clusters=3, init='k-means++', n_jobs=8).fit(kaggle2)\n",
    "kaggle2['kmeans_3'] = kmeans_3.labels_\n",
    "kmeans_4 = KMeans(n_clusters=4, init='k-means++', n_jobs=8).fit(kaggle2)\n",
    "kaggle2['kmeans_4'] = kmeans_4.labels_\n",
    "kmeans_5 = KMeans(n_clusters=5, init='k-means++', n_jobs=8).fit(kaggle2)\n",
    "kaggle2['kmeans_5'] = kmeans_5.labels_\n",
    "\n",
    "clusterer = hdbscan.HDBSCAN(min_cluster_size=100)\n",
    "cluster_labels = clusterer.fit_predict(kaggle2)\n",
    "kaggle2['HDBScan'] = cluster_labels"
   ]
  },
  {
   "cell_type": "code",
   "execution_count": null,
   "metadata": {},
   "outputs": [],
   "source": [
    "vclf = VotingClassifier(estimators=[  ('XGB', my_classifier1), ('GBM', my_classifier2),('RF', my_classifier3),('CB', my_classifier4)], voting='soft', n_jobs =-1)\n",
    "vclf = vclf.fit(X, y)"
   ]
  },
  {
   "cell_type": "code",
   "execution_count": null,
   "metadata": {},
   "outputs": [],
   "source": [
    "predictions=vclf.predict_proba(kaggle2)"
   ]
  },
  {
   "cell_type": "code",
   "execution_count": null,
   "metadata": {},
   "outputs": [],
   "source": [
    "kaggle['prediction0'] = predictions[:,0]\n",
    "kaggle['label'] = predictions[:,1]"
   ]
  },
  {
   "cell_type": "code",
   "execution_count": null,
   "metadata": {},
   "outputs": [],
   "source": [
    "kaggle.head(15)"
   ]
  },
  {
   "cell_type": "code",
   "execution_count": null,
   "metadata": {},
   "outputs": [],
   "source": [
    "kaggle[['person','label']].to_csv('predicciones5.csv', encoding='utf-8', index=False)"
   ]
  },
  {
   "cell_type": "code",
   "execution_count": null,
   "metadata": {},
   "outputs": [],
   "source": []
  }
 ],
 "metadata": {
  "kernelspec": {
   "display_name": "Python 3",
   "language": "python",
   "name": "python3"
  },
  "language_info": {
   "codemirror_mode": {
    "name": "ipython",
    "version": 3
   },
   "file_extension": ".py",
   "mimetype": "text/x-python",
   "name": "python",
   "nbconvert_exporter": "python",
   "pygments_lexer": "ipython3",
   "version": "3.6.5"
  }
 },
 "nbformat": 4,
 "nbformat_minor": 2
}
